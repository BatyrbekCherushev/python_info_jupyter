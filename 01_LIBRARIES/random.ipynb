{
 "cells": [
  {
   "cell_type": "markdown",
   "id": "a9add1be1808e162",
   "metadata": {},
   "source": [
    "# Модуль random в Python"
   ]
  },
  {
   "cell_type": "code",
   "execution_count": null,
   "id": "1e1c65bf109f5412",
   "metadata": {},
   "outputs": [],
   "source": [
    "import random #підключення модуля"
   ]
  },
  {
   "cell_type": "markdown",
   "id": "ab700fc9c6ce6b0e",
   "metadata": {},
   "source": [
    "## random.random()\n",
    "\n",
    "Виводимо випадкове число від 0 до 1 (виключаючи одиницю)"
   ]
  },
  {
   "cell_type": "code",
   "execution_count": null,
   "id": "580224a7cfbb0266",
   "metadata": {},
   "outputs": [],
   "source": [
    "print(random.random())"
   ]
  },
  {
   "cell_type": "markdown",
   "id": "aede077840a54dde",
   "metadata": {},
   "source": [
    "## random.choice()\n",
    "\n",
    "Виводимо випадковий елемент із списку"
   ]
  },
  {
   "cell_type": "code",
   "execution_count": null,
   "id": "f943d986f3516da0",
   "metadata": {},
   "outputs": [],
   "source": [
    "random.choice([1,2,3])"
   ]
  },
  {
   "cell_type": "markdown",
   "id": "29aae724c5717e71",
   "metadata": {},
   "source": [
    "## random.randint()\n",
    "\n",
    "randint(a, b): Returns a random integer N such that a <= N <= b"
   ]
  },
  {
   "cell_type": "code",
   "execution_count": null,
   "id": "8f0def3e5216f20a",
   "metadata": {},
   "outputs": [],
   "source": [
    "print(random.randint(0, 20))"
   ]
  },
  {
   "cell_type": "markdown",
   "id": "21f85642a948b15b",
   "metadata": {},
   "source": [
    "## random.randrange(a, b)\n",
    "\n",
    "Виводимо випадкове число з діапазону від a до b"
   ]
  },
  {
   "cell_type": "code",
   "execution_count": null,
   "id": "241fc49072976d75",
   "metadata": {
    "ExecuteTime": {
     "end_time": "2025-06-06T23:15:20.780420Z",
     "start_time": "2025-06-06T23:15:20.775818Z"
    }
   },
   "outputs": [],
   "source": [
    "print(random.randrange(10, 20))"
   ]
  },
  {
   "cell_type": "markdown",
   "id": "345cf75cf668d639",
   "metadata": {},
   "source": [
    "## random.shuffle()\n",
    "\n",
    "Shuffles the elements of a sequence in place"
   ]
  },
  {
   "cell_type": "code",
   "execution_count": null,
   "id": "3c8ee40c1db58cd8",
   "metadata": {
    "ExecuteTime": {
     "end_time": "2025-06-06T23:14:57.699609Z",
     "start_time": "2025-06-06T23:14:57.695416Z"
    }
   },
   "outputs": [],
   "source": [
    "list_01 = [1,2,3,4,5]\n",
    "random.shuffle(list_01)\n",
    "print(list_01)"
   ]
  },
  {
   "cell_type": "code",
   "execution_count": null,
   "id": "initial_id",
   "metadata": {
    "collapsed": true
   },
   "outputs": [],
   "source": []
  }
 ],
 "metadata": {
  "kernelspec": {
   "display_name": "Python 3",
   "language": "python",
   "name": "python3"
  },
  "language_info": {
   "codemirror_mode": {
    "name": "ipython",
    "version": 2
   },
   "file_extension": ".py",
   "mimetype": "text/x-python",
   "name": "python",
   "nbconvert_exporter": "python",
   "pygments_lexer": "ipython2",
   "version": "2.7.6"
  }
 },
 "nbformat": 4,
 "nbformat_minor": 5
}
