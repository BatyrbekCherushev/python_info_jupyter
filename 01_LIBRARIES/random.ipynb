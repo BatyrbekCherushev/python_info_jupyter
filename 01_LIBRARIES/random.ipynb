{
 "cells": [
  {
   "metadata": {},
   "cell_type": "markdown",
   "source": "# Модуль random в Python",
   "id": "a9add1be1808e162"
  },
  {
   "metadata": {},
   "cell_type": "code",
   "source": "import random #підключення модуля",
   "id": "1e1c65bf109f5412",
   "outputs": [],
   "execution_count": null
  },
  {
   "metadata": {},
   "cell_type": "markdown",
   "source": [
    "## random.random()\n",
    "\n",
    "Виводимо випадкове число від 0 до 1 (виключаючи одиницю)"
   ],
   "id": "ab700fc9c6ce6b0e"
  },
  {
   "metadata": {},
   "cell_type": "code",
   "source": "print(random.random())",
   "id": "580224a7cfbb0266",
   "outputs": [],
   "execution_count": null
  },
  {
   "metadata": {},
   "cell_type": "markdown",
   "source": [
    "## random.choice()\n",
    "\n",
    "Виводимо випадковий елемент із списку"
   ],
   "id": "aede077840a54dde"
  },
  {
   "metadata": {},
   "cell_type": "code",
   "source": "random.choice([1,2,3])",
   "id": "f943d986f3516da0",
   "outputs": [],
   "execution_count": null
  },
  {
   "metadata": {},
   "cell_type": "markdown",
   "source": [
    "## random.randint()\n",
    "\n",
    "randint(a, b): Returns a random integer N such that a <= N <= b"
   ],
   "id": "29aae724c5717e71"
  },
  {
   "metadata": {},
   "cell_type": "code",
   "source": "print(random.randint(0, 20))",
   "id": "8f0def3e5216f20a",
   "outputs": [],
   "execution_count": null
  },
  {
   "metadata": {},
   "cell_type": "markdown",
   "source": [
    "## random.randrange(a, b)\n",
    "\n",
    "Виводимо випадкове число з діапазону від a до b"
   ],
   "id": "21f85642a948b15b"
  },
  {
   "metadata": {
    "ExecuteTime": {
     "end_time": "2025-06-06T23:15:20.780420Z",
     "start_time": "2025-06-06T23:15:20.775818Z"
    }
   },
   "cell_type": "code",
   "source": "print(random.randrange(10, 20))",
   "id": "241fc49072976d75",
   "outputs": [
    {
     "name": "stdout",
     "output_type": "stream",
     "text": [
      "12\n"
     ]
    }
   ],
   "execution_count": 50
  },
  {
   "metadata": {},
   "cell_type": "markdown",
   "source": [
    "## random.shuffle()\n",
    "\n",
    "Shuffles the elements of a sequence in place"
   ],
   "id": "345cf75cf668d639"
  },
  {
   "metadata": {
    "ExecuteTime": {
     "end_time": "2025-06-06T23:14:57.699609Z",
     "start_time": "2025-06-06T23:14:57.695416Z"
    }
   },
   "cell_type": "code",
   "source": [
    "list_01 = [1,2,3,4,5]\n",
    "random.shuffle(list_01)\n",
    "print(list_01)"
   ],
   "id": "3c8ee40c1db58cd8",
   "outputs": [
    {
     "name": "stdout",
     "output_type": "stream",
     "text": [
      "[2, 1, 3, 4, 5]\n"
     ]
    }
   ],
   "execution_count": 32
  },
  {
   "cell_type": "code",
   "id": "initial_id",
   "metadata": {
    "collapsed": true
   },
   "source": [
    ""
   ],
   "outputs": [],
   "execution_count": null
  }
 ],
 "metadata": {
  "kernelspec": {
   "display_name": "Python 3",
   "language": "python",
   "name": "python3"
  },
  "language_info": {
   "codemirror_mode": {
    "name": "ipython",
    "version": 2
   },
   "file_extension": ".py",
   "mimetype": "text/x-python",
   "name": "python",
   "nbconvert_exporter": "python",
   "pygments_lexer": "ipython2",
   "version": "2.7.6"
  }
 },
 "nbformat": 4,
 "nbformat_minor": 5
}
