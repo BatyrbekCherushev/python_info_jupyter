{
 "cells": [
  {
   "cell_type": "markdown",
   "id": "bf9ee022",
   "metadata": {},
   "source": [
    "# МОДУЛІ ПАКЕТИ ІМПОРТИ\n",
    "\n",
    "\n",
    "## Module Attributes\n",
    "* \\_\\_file\\_\\_ returns the physical name of the module.\n",
    "\n",
    "* \\_\\_package\\_\\_ returns the package to which the module belongs.\n",
    "\n",
    "* \\_\\_doc\\_\\_ returns the docstring at the top of the module if any\n",
    "\n",
    "* \\_\\_dict\\_\\_ returns the entire scope of the module\n",
    "\n",
    "* \\_\\_name\\_\\_ returns the name of the module\n",
    "\n",
    "## ПОРЯДОК ПОШУКУ ІМЕН ДЛЯ ІМПОРТУ\n",
    "\n",
    "* вбудовані бібліотеки\n",
    "    * папка, з якої запущено скрипт\n",
    "        * в іменах, які задані під час виконання\n",
    "        \n",
    "Щоб подивитися, в яких саме папках відбуватиметься пошук, можна імпортувати вбудований модуль sys і запрінтити sys.path\n",
    "\n",
    "print(sys.path)"
   ]
  },
  {
   "cell_type": "markdown",
   "id": "f100fad5",
   "metadata": {},
   "source": [
    "Імпорт модуля\n",
    "\n",
    "import math\n",
    "\n",
    "* Цей рядок коду не імпортує імена функційЮ визначених у цьому модулі\n",
    "    * він імпортує лише ім'я модуля\n"
   ]
  },
  {
   "cell_type": "code",
   "execution_count": 1,
   "id": "2d8a6070",
   "metadata": {},
   "outputs": [],
   "source": [
    "import math\n",
    "\n",
    "import sys, random"
   ]
  },
  {
   "cell_type": "markdown",
   "id": "abc33cbf",
   "metadata": {},
   "source": [
    "Перейменування модуля при імпорті\n",
    "\n",
    "import math as m\n",
    "\n",
    "* після перейменування ім’я math не розпізнається в нашій області видимості. Відповідно, math.pi не працюватиме, а m.pi — працюватиме."
   ]
  },
  {
   "cell_type": "code",
   "execution_count": null,
   "id": "21c2febb",
   "metadata": {},
   "outputs": [],
   "source": [
    "import math as m\n",
    "\n",
    "print(m.pi)\n",
    "\n",
    "print(math.pi)"
   ]
  },
  {
   "cell_type": "markdown",
   "id": "e300ad39",
   "metadata": {},
   "source": [
    "Імпорт певних імен з модуля, не імпортуючи весь модуль\n"
   ]
  },
  {
   "cell_type": "code",
   "execution_count": null,
   "id": "8214354c",
   "metadata": {},
   "outputs": [],
   "source": [
    "# Імпортуємо тільки pi з модуля math\n",
    "from math import pi\n",
    " \n",
    "print(pi)"
   ]
  },
  {
   "cell_type": "markdown",
   "id": "e7f257d1",
   "metadata": {},
   "source": [
    "Імпортувати всі імена з модуля:\n",
    "\n",
    "from math import *\n",
    "\n",
    "* Імпорт всього вмісту модуля не є гарною практикою у програмуванні. Це може призвести до дублювання визначень ідентифікаторів. Це також може ускладнити читання коду."
   ]
  },
  {
   "cell_type": "markdown",
   "id": "306a188e",
   "metadata": {},
   "source": [
    "# ПАКЕТИ (PACKAGES)\n",
    "ПАкет - пака , що вміщає в себе:\n",
    "* модулі пайтон\n",
    "* файл __init__.py\n",
    "\n",
    "Якщо пакпа вміщає в себе інші вкладені папки з модулями і файлами ініт, то ці вкладені папки є субпакетами."
   ]
  },
  {
   "cell_type": "markdown",
   "id": "f9014c4f",
   "metadata": {},
   "source": [
    "## ІМПОРТ модуля із пакета\n",
    "Наприклад, маємо каталог my_package, що вміщає в себе каталог my_math, що вміщає в себе модуль math_funcs.py\n",
    "my_package\\my_math\\math_funcs.py\n",
    "\n",
    "import my_package.my_math.my_funcs\n",
    "\n",
    "Наприклад, це модуль містить в собі функцію do_something()"
   ]
  },
  {
   "cell_type": "code",
   "execution_count": null,
   "id": "25236001",
   "metadata": {},
   "outputs": [],
   "source": [
    "import my_package.my_math.my_funcs\n",
    "\n",
    "my_package.my_math.my_funcs.do_something() #виклик функції "
   ]
  },
  {
   "cell_type": "markdown",
   "id": "9eaab360",
   "metadata": {},
   "source": [
    "Імпорт модуля для коротшого звернення до його функцій"
   ]
  },
  {
   "cell_type": "code",
   "execution_count": null,
   "id": "a952905d",
   "metadata": {},
   "outputs": [],
   "source": [
    "from my_package.my_math import my_funcs\n",
    "\n",
    "my_funcs.do_something()"
   ]
  },
  {
   "cell_type": "markdown",
   "id": "f5b8edd2",
   "metadata": {},
   "source": [
    "Імпорт конкретної функції з пакета"
   ]
  },
  {
   "cell_type": "code",
   "execution_count": null,
   "id": "4a5d67f3",
   "metadata": {},
   "outputs": [],
   "source": [
    "from my_package.my_math.my_funcs import do_something\n",
    "\n",
    "do_something()"
   ]
  },
  {
   "cell_type": "markdown",
   "id": "aab6b9e7",
   "metadata": {},
   "source": [
    "## ІМПОРТ вкладених модулів чи конкретних функцій, чи змінних при імпорті пакета\n",
    "\n",
    "Якщо потрібно імпортувати вкладені в пакет або субпакети модулі (чи змінні, чи функції) одразу при імпорті пакету вцілому, то необхідно імпортувати їх в \\_\\_init\\_\\_.py файлі пакету. Наприклад, маємо пакет:\n",
    "\n",
    "* package\n",
    "    * \\_\\_init\\_\\_.py\n",
    "    * first_nested_module.py\n",
    "    * subpackage_1\n",
    "        * module_1.py\n",
    "\n",
    "Якщо я хочу, щоб при імпорті пакету одразу імпортувався контент module_1.py, маю прописати це в \\_\\_init\\_\\_.py, що відноситься до пакету.\n"
   ]
  },
  {
   "cell_type": "markdown",
   "id": "70786119",
   "metadata": {},
   "source": []
  },
  {
   "cell_type": "code",
   "execution_count": null,
   "id": "95f95887",
   "metadata": {},
   "outputs": [],
   "source": [
    "# in main module\n",
    "import package"
   ]
  },
  {
   "cell_type": "code",
   "execution_count": null,
   "id": "dc8551dd",
   "metadata": {},
   "outputs": [],
   "source": [
    "# in package __init__.py\n",
    "from . import  first_nested_module #importing from main package directory\n",
    "from .subpackage_1 import module_1"
   ]
  }
 ],
 "metadata": {
  "kernelspec": {
   "display_name": "Python 3",
   "language": "python",
   "name": "python3"
  },
  "language_info": {
   "codemirror_mode": {
    "name": "ipython",
    "version": 3
   },
   "file_extension": ".py",
   "mimetype": "text/x-python",
   "name": "python",
   "nbconvert_exporter": "python",
   "pygments_lexer": "ipython3",
   "version": "3.13.5"
  }
 },
 "nbformat": 4,
 "nbformat_minor": 5
}
