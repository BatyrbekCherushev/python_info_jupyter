{
 "cells": [
  {
   "cell_type": "markdown",
   "id": "ccb179e6",
   "metadata": {},
   "source": [
    "<h1 style = 'text-align:center'> ФУНКЦІЇ (FUNCTIONS)</h1>"
   ]
  },
  {
   "cell_type": "markdown",
   "id": "4f0d1a11",
   "metadata": {},
   "source": [
    "### Особливості\n",
    "* дозволяють виконувати одну і ту саму логіку багато разів у коді без необхідності повторно переписувати всю логіку\n",
    "* параметри - це імена, які задаються при створенні функції\n",
    "    * аргументи - це дані які передаються у функцію при виклику\n",
    "* може мати або не мати аргументів функції\n",
    "* для аргументів можна вказувати значення за замовчуванням\n",
    "* може повертати або не повертати значення\n",
    "* аргументи считуються в тому порядку, в якому вони бли передані у функцію, окрм випадків, коли вони були присвоєнні за назвою аргумента\n",
    "* після виклику return виконання функції преривається\n",
    "    * якщо функція не має return виразу, то функція повертає None\n",
    "* якщо передати в функцію змінний об'єкт в якості аргумента (список, словник, множина) і робити зміни з відповідним аргументом, то ці зміни торкнуться об'єкта і поза функцією. Так як ми передаємо посилання на цей об'єкт.\n",
    "\n",
    "\n",
    "### Корисні посилання\n",
    "* [www.w3resource -> Python: user defined functions](https://www.w3resource.com/python/python-user-defined-functions.php)\n",
    "* [tutorialspoint -> Python - Functions](https://www.tutorialspoint.com/python/python_functions.htm)\n",
    "* [datacamp -> Python Functions](https://www.datacamp.com/tutorial/functions-python-tutorial)"
   ]
  },
  {
   "cell_type": "code",
   "execution_count": null,
   "id": "bfcd059f",
   "metadata": {},
   "outputs": [],
   "source": []
  },
  {
   "cell_type": "markdown",
   "id": "e7cceb1c",
   "metadata": {},
   "source": [
    "## Синтаксис оголошення\n"
   ]
  },
  {
   "cell_type": "code",
   "execution_count": null,
   "id": "5f8a8e34",
   "metadata": {},
   "outputs": [],
   "source": [
    "def function_name(argument_1): # оголошення функції\n",
    "    print(argument_1)\n",
    "    return True\n",
    "\n",
    "result = function_name('Hello world') #виклик функції в основному коді та присвоєння значення яке повертається функцією змінній\n",
    "print(result)"
   ]
  },
  {
   "cell_type": "markdown",
   "id": "ea29761e",
   "metadata": {},
   "source": [
    "Використання аргументів\n",
    "* Аргументи визначаються по порядку"
   ]
  },
  {
   "cell_type": "code",
   "execution_count": null,
   "id": "439aec94",
   "metadata": {},
   "outputs": [],
   "source": [
    "def describe_fruit(fruit_type, color):\n",
    "    print(f'A {fruit_type} is {color}')\n",
    "\n",
    "describe_fruit('Apple', 'red')\n",
    "describe_fruit('yellow', 'banana')"
   ]
  },
  {
   "cell_type": "markdown",
   "id": "6b7e5854",
   "metadata": {},
   "source": [
    "Присвоєння значень кокретним аргументам у виклику функції. Тоді порядок передачі не має значення"
   ]
  },
  {
   "cell_type": "code",
   "execution_count": null,
   "id": "9d5d9cd2",
   "metadata": {},
   "outputs": [],
   "source": [
    "describe_fruit(color='yellow', fruit_type='banana')"
   ]
  },
  {
   "cell_type": "markdown",
   "id": "d51504ed",
   "metadata": {},
   "source": [
    "Визначення значень за замовчуванням для аргументів функції. Вони використовуються, якщо в функцію при виклику не передано жодних значень"
   ]
  },
  {
   "cell_type": "code",
   "execution_count": null,
   "id": "68f56b4f",
   "metadata": {},
   "outputs": [],
   "source": [
    "def describe_fruit(fruit_type = 'Banana', color = 'yellow'):\n",
    "    print(f'A {fruit_type} is {color}')\n",
    "\n",
    "describe_fruit()"
   ]
  },
  {
   "cell_type": "markdown",
   "id": "d180a684",
   "metadata": {},
   "source": [
    "<h2 style = 'text-align:center'>КОМБІНАЦІЇ ПЕРЕДАВАЄМИХ У ФУНКЦІЮ ПАРАМЕТРІВ</h2>\n",
    "\n",
    "def f(a, b, c):                # f(a=1, b=2, c=3) | f(1, b=2, c=3) | f(1, 2, b=3) | f(1, 2, 3)\n",
    "\n",
    "def f(*, a, b, c):             # f(a=1, b=2, c=3)\n",
    "\n",
    "def f(a, *, b, c):             # f(a=1, b=2, c=3) | f(1, b=2, c=3)\n",
    "\n",
    "def f(a, b, *, c):             # f(a=1, b=2, c=3) | f(1, b=2, c=3) | f(1, 2, c=3)\n",
    "\n",
    "def f(*args):                  # f(1, 2, 3)\n",
    "\n",
    "def f(a, *args):               # f(1, 2, 3)\n",
    "\n",
    "def f(*args, c):               # f(1, 2, c=3)\n",
    "\n",
    "def f(a, *args, c):            # f(1, 2, c=3)\n",
    "\n",
    "def f(**kwargs):               # f(a=1, b=2, c=3)\n",
    "\n",
    "def f(a, **kwargs):            # f(a=1, b=2, c=3) | f(1, b=2, c=3)\n",
    "\n",
    "def f(*, a, **kwargs):         # f(a=1, b=2, c=3)\n",
    "\n",
    "def f(*args, **kwargs):        # f(a=1, b=2, c=3) | f(1, b=2, c=3) | f(1, 2, c=3) | f(1, 2, 3)\n",
    "\n",
    "def f(a, *args, **kwargs):     # f(a=1, b=2, c=3) | f(1, b=2, c=3) | f(1, 2, c=3) | f(1, 2, 3)\n",
    "\n",
    "def f(*args, b, **kwargs):     # f(a=1, b=2, c=3) | f(1, b=2, c=3)\n",
    "\n",
    "def f(a, *args, c, **kwargs):  # f(a=1, b=2, c=3) | f(1, b=2, c=3) | f(1, 2, c=3)"
   ]
  },
  {
   "cell_type": "markdown",
   "id": "3e20d98f",
   "metadata": {},
   "source": [
    "Передача в функцію довільної кількості аргументів"
   ]
  },
  {
   "cell_type": "code",
   "execution_count": null,
   "id": "afc1fc83",
   "metadata": {},
   "outputs": [],
   "source": [
    "def sum_numbers(*arguments):\n",
    "    result = 0\n",
    "    for number in arguments:\n",
    "        result += number\n",
    "    return result\n",
    "\n",
    "print(sum_numbers(1, 2, 3, 4, 5, 6, 7, 1))"
   ]
  },
  {
   "cell_type": "markdown",
   "id": "e6c3aefd",
   "metadata": {},
   "source": [
    "Передача у функцію довільної кількості пар ключ значення"
   ]
  },
  {
   "cell_type": "code",
   "execution_count": null,
   "id": "dfc7ed1c",
   "metadata": {},
   "outputs": [],
   "source": [
    "def make_dict_from_pairs(**arguments):\n",
    "    new_dict = {}\n",
    "    for key, value in arguments.items():\n",
    "        new_dict[key] = value\n",
    "    \n",
    "    return  new_dict\n",
    "\n",
    "print(make_dict_from_pairs(color = 'yellow', shape = 'square', size = 24))"
   ]
  },
  {
   "cell_type": "markdown",
   "id": "ecd45a7e",
   "metadata": {},
   "source": [
    "Передача у функції різних типів аргументів"
   ]
  },
  {
   "cell_type": "code",
   "execution_count": null,
   "id": "7b62e1bd",
   "metadata": {},
   "outputs": [],
   "source": [
    "def another_print(a, b, *args, **kwargs):\n",
    "    print(a, ' ', b)\n",
    "    print(args)\n",
    "    print(kwargs)\n",
    "\n",
    "another_print(1,2,3,4,5,h = 1, f = 4, g = 4)"
   ]
  },
  {
   "cell_type": "markdown",
   "id": "b26ffb33",
   "metadata": {},
   "source": [
    "<h2 style = 'text-align:center'>ОБЛАСТІ ВИДИМОСТІ ФУНКЦІЇ</h2>\n",
    "\n",
    "* якщо парметр передаваємий уфункцію є незмінним об'єктом, то при спробі змінити його в середині функції, тсворюється новий екземпляр і зовнішнй об'єкт лишається незмінним\n",
    "* якщо передати змінний об'єкт в якості аргумента, то при зміні його у функції, також зміниться і зовнішній об'єкт в глобальній області видимості\n"
   ]
  },
  {
   "cell_type": "markdown",
   "id": "5275892d",
   "metadata": {},
   "source": [
    ">Передача у функцію змінюваного об'єкта. Зміна об'єкту із глобальної області видимості"
   ]
  },
  {
   "cell_type": "code",
   "execution_count": null,
   "id": "5ff1e765",
   "metadata": {},
   "outputs": [],
   "source": [
    "#передача списку\n",
    "print('Зміна зовнішнього списку')\n",
    "def change_obj(some_instance):\n",
    "    for i in range(len(some_instance)):\n",
    "        some_instance[i] *= 10\n",
    "\n",
    "my_var = [10, 20, 30]\n",
    "print(\"До опрацювання списку функцією\", my_var)\n",
    "change_obj(my_var)\n",
    "print(\"Після опрацювання списку функцією\", my_var)\n",
    "\n",
    "\n",
    "#передача словника\n",
    "print('\\nЗміна зовнішнього словника')\n",
    "def change_dict(some_dict):\n",
    "    for key in some_dict:\n",
    "        some_dict[key] = key\n",
    "\n",
    "new_dict = {\n",
    "    'apples': 1,\n",
    "    'banana': 5,\n",
    "    'tomatos': 3\n",
    "}\n",
    "print(\"До опрацювання словника функцією\", new_dict)\n",
    "change_dict(new_dict)\n",
    "print(\"Після опрацювання словника функцією\", new_dict)"
   ]
  },
  {
   "cell_type": "markdown",
   "id": "20c5a443",
   "metadata": {},
   "source": [
    ">Передача  у функцію незмінюваного об'єкта в якості аргумента і спроба змінити його"
   ]
  },
  {
   "cell_type": "code",
   "execution_count": null,
   "id": "a8b61330",
   "metadata": {},
   "outputs": [],
   "source": [
    "def change_unmutable(some_var):\n",
    "    some_var *= 10\n",
    "    return some_var\n",
    "\n",
    "x = 10\n",
    "print(change_unmutable(x))\n",
    "print(x)\n",
    "\n",
    "print('Try to change string variable in function...')\n",
    "def change_str(some_str):\n",
    "    some_str = some_str + ' WORLD!!!'\n",
    "    return some_str\n",
    "str_var = 'Hello'\n",
    "print(change_str(str_var))\n",
    "print(str_var)"
   ]
  },
  {
   "cell_type": "markdown",
   "id": "56943806",
   "metadata": {},
   "source": [
    "Використання ключового слова global\n",
    "якщо вставити його у функції перед змінною, яка має ідентичні назву зі змінною із глобальної області видимості, то після цього оголошення буде відбуватися звернення саме до зовнішньої (глобальної )змінної"
   ]
  },
  {
   "cell_type": "code",
   "execution_count": null,
   "id": "55f31118",
   "metadata": {},
   "outputs": [],
   "source": [
    "# WITHOUT GLOBAL\n",
    "def do_something():\n",
    "    x = 3\n",
    "    print(x)\n",
    "\n",
    "x = 'some text'\n",
    "do_something()\n",
    "print(x) #global variable is not changed"
   ]
  },
  {
   "cell_type": "code",
   "execution_count": null,
   "id": "2a15085b",
   "metadata": {},
   "outputs": [],
   "source": [
    "# WITH global keyword\n",
    "\n",
    "def do_something():\n",
    "    global x\n",
    "    x = 3\n",
    "    print(x)\n",
    "\n",
    "x = 'some text'\n",
    "do_something()\n",
    "print(x) #global variable is changed"
   ]
  },
  {
   "cell_type": "markdown",
   "id": "b72cdb8b",
   "metadata": {},
   "source": [
    "Якщо всередині функції\n",
    "* використати global щодо змінної, якої немає в глобальній області видимості\n",
    "* присвоїти їй значення\n",
    "* викликати цю функцію\n",
    "* то в глобальній області видимості створиться ця змінна"
   ]
  },
  {
   "cell_type": "code",
   "execution_count": null,
   "id": "4028d2c4",
   "metadata": {},
   "outputs": [],
   "source": [
    "def do_some_shit():\n",
    "    global new_num_var\n",
    "    new_num_var = 25\n",
    "\n",
    "#call this print before function call to see that there is no particular variable at global scope\n",
    "# print(new_num_var)\n",
    "do_some_shit()\n",
    "\n",
    "print(new_num_var)\n",
    "print(dir())"
   ]
  }
 ],
 "metadata": {
  "kernelspec": {
   "display_name": "Python 3",
   "language": "python",
   "name": "python3"
  },
  "language_info": {
   "codemirror_mode": {
    "name": "ipython",
    "version": 3
   },
   "file_extension": ".py",
   "mimetype": "text/x-python",
   "name": "python",
   "nbconvert_exporter": "python",
   "pygments_lexer": "ipython3",
   "version": "3.13.5"
  }
 },
 "nbformat": 4,
 "nbformat_minor": 5
}
