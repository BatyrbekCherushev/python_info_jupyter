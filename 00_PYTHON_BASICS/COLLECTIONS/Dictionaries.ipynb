{
 "cells": [
  {
   "cell_type": "markdown",
   "metadata": {},
   "source": [
    "<h1 style='text-align:center'> СЛОВНИКИ (DICTIONARIES) </h1>\n",
    "\n",
    "## Особливості словників\n",
    "* це невпорядковані колекції (елементи не мають індексів) - Починаючи з Python 3.7, словники зберігають елементи у тому ж порядку, в якому вони були вставлені.\n",
    "* змінювані (mutable) колекції\n",
    "* індексується за ключем\n",
    "* дані в словнику організовані по принципу ключ - значення\n",
    "* ключами можуть бути тільки незмінювані (immutable) значення. Ключами можуть бути тільки хешуємі об'єкти пайтон.\n",
    "    * рядки\n",
    "    * числа\n",
    "    * незмінювані кортежі\n",
    "    * True, False\n",
    "    * об'єкти типів даних int, bool, float ...\n",
    "* ключі мають бути унікальні значення, так само як і в множинах\n",
    "* значеннями (values) словнику можуть бути будь які змінювані чи незмінювані типи об'єктів:\n",
    "    * рядки\n",
    "    * числа\n",
    "    * інші колекції\n",
    "\n",
    "\n",
    "## Операції зі словниками\n",
    "* створення словника\n",
    "* отримання значення за ключем\n",
    "* входження в словник\n",
    "* перевірка словників на рівність або нерівність (== !=)\n",
    "* додавання нового значення в словник\n",
    "* зміна існуючого значення в словнику\n",
    "* розширення словника за рахунок іншого\n",
    "* видалення значення зі словника\n",
    "* наповнення словника через генератор словника\n",
    "* ітерування по елементам словника: ключам, значенням, парам ключ-значення\n",
    "\n",
    "## Методи словників\n",
    "* .get(key, default=None)\n",
    "* .values()\n",
    "* >.keys() - Повертає список із ключів \n",
    "* >.items() - повертає список із кортежів пар ключ-значення\n",
    "* .update(some_dict)\n",
    "* .fromkeys(iterable, value=None, /)\n",
    "* .setdefault(key, default=None)\n",
    "* .pop(key[, default])\n",
    "* .popitem()\n",
    "* .clear()\n",
    "\n",
    "## Вбудовані функції, які можна застосовувати до словників\n",
    "* len(a_dict)\n",
    "* all()\tПовертає True, якщо всі елементи в ітерабельному списку 'істинні', і False в іншому випадку.\n",
    "* any()\tПовертає True, якщо хоча б один елемент в ітерабельному списку є правдивим, і False в іншому випадку.\n",
    "* max()\t\n",
    "* min()\t\n",
    "* sorted()\tReturns a new sorted list of the elements in the iterable.\n",
    "* sum()\tReturns the sum of a start value and the values in the input iterable from left to right.\n",
    "* list()\n",
    "\n",
    "## Корисні посилання\n",
    "* [RealPython](https://realpython.com/python-dicts/)\n",
    "* [W3Schools](https://www.w3schools.com/python/python_dictionaries.asp)"
   ]
  },
  {
   "cell_type": "markdown",
   "metadata": {},
   "source": [
    "\n",
    "<h2 style = 'text-align:center'> Створення словника </h2>"
   ]
  },
  {
   "cell_type": "markdown",
   "metadata": {},
   "source": [
    "Створення пустого словника\n",
    "* треба звернути уваги, що таким чином пусті множини не створюютья, тільки словники"
   ]
  },
  {
   "cell_type": "code",
   "execution_count": null,
   "metadata": {
    "ExecuteTime": {
     "end_time": "2025-06-10T23:24:05.596372Z",
     "start_time": "2025-06-10T23:24:05.592002Z"
    }
   },
   "outputs": [],
   "source": [
    "a_dict = {}\n",
    "print(a_dict)\n",
    "print(type(a_dict)) # type is dictionary class, not a set class\n"
   ]
  },
  {
   "cell_type": "markdown",
   "metadata": {},
   "source": [
    "створення словника із початковими значеннями"
   ]
  },
  {
   "cell_type": "code",
   "execution_count": null,
   "metadata": {
    "ExecuteTime": {
     "end_time": "2025-06-10T23:24:05.682321Z",
     "start_time": "2025-06-10T23:24:05.677620Z"
    }
   },
   "outputs": [],
   "source": [
    "a_dict = {'hello': 'world', 'hello2': 'world'}\n",
    "print(a_dict)"
   ]
  },
  {
   "cell_type": "markdown",
   "metadata": {},
   "source": [
    "створення пустого словника через конструктор dict()"
   ]
  },
  {
   "cell_type": "code",
   "execution_count": null,
   "metadata": {
    "ExecuteTime": {
     "end_time": "2025-06-10T23:24:05.651216Z",
     "start_time": "2025-06-10T23:24:05.646091Z"
    }
   },
   "outputs": [],
   "source": [
    "a_dict = dict()\n",
    "print(a_dict)"
   ]
  },
  {
   "cell_type": "markdown",
   "metadata": {},
   "source": [
    "створення словника через конструктор dict()\n",
    "\n",
    "* аргументом передаєм список кортежів з ключами та значеннями відповідно"
   ]
  },
  {
   "cell_type": "code",
   "execution_count": null,
   "metadata": {
    "ExecuteTime": {
     "end_time": "2025-06-10T23:24:05.720003Z",
     "start_time": "2025-06-10T23:24:05.714023Z"
    }
   },
   "outputs": [],
   "source": [
    "a_dict = dict([('hello', 'world'),\n",
    "               ('hello2', 'world'),\n",
    "               ('hello3', 'world')]) \n",
    "print(a_dict)"
   ]
  },
  {
   "cell_type": "markdown",
   "metadata": {},
   "source": [
    "створення словника через конструктор dict() через інший синтаксис"
   ]
  },
  {
   "cell_type": "code",
   "execution_count": null,
   "metadata": {
    "ExecuteTime": {
     "end_time": "2025-06-10T23:24:05.769355Z",
     "start_time": "2025-06-10T23:24:05.764636Z"
    }
   },
   "outputs": [],
   "source": [
    "a_dict = dict(\n",
    "    hello = 'world',\n",
    "    some_key = 'some_value'\n",
    ")\n",
    "print(a_dict)"
   ]
  },
  {
   "cell_type": "markdown",
   "metadata": {},
   "source": [
    "Із використанням метода dict.fromkeys(iterable, value=None, /)"
   ]
  },
  {
   "cell_type": "code",
   "execution_count": null,
   "metadata": {},
   "outputs": [],
   "source": [
    "inventory = dict.fromkeys([\"apple\", \"orange\", \"banana\", \"mango\"], 0)\n",
    "print(inventory)\n",
    "\n",
    "# no second argument\n",
    "inventory = dict.fromkeys([\"apple\", \"orange\", \"banana\", \"mango\"]) \n",
    "print(inventory)"
   ]
  },
  {
   "cell_type": "markdown",
   "metadata": {},
   "source": [
    "### Додавання нового значення "
   ]
  },
  {
   "cell_type": "code",
   "execution_count": null,
   "metadata": {},
   "outputs": [],
   "source": [
    "new_dict = {}\n",
    "new_dict['hello1'] = 'world1'\n",
    "print(new_dict)"
   ]
  },
  {
   "cell_type": "markdown",
   "metadata": {},
   "source": [
    "### Зміна існуючого значення"
   ]
  },
  {
   "cell_type": "code",
   "execution_count": null,
   "metadata": {},
   "outputs": [],
   "source": [
    "food_dict = {\n",
    "    1: 'apple',\n",
    "    2: 'tomato'}\n",
    "print(food_dict)\n",
    "food_dict[1] = 'potato'\n",
    "print(food_dict)"
   ]
  },
  {
   "cell_type": "markdown",
   "metadata": {},
   "source": [
    "### Розширення словника"
   ]
  },
  {
   "cell_type": "code",
   "execution_count": null,
   "metadata": {},
   "outputs": [],
   "source": [
    "food_dict = {\n",
    "    1: 'apple',\n",
    "    2: 'tomato'}\n",
    "food_dict.update({3: 'cucumber'})\n",
    "print(food_dict)"
   ]
  },
  {
   "cell_type": "markdown",
   "metadata": {},
   "source": [
    "<h2 style='text-align:center'>Отримання значення за ключем</h2>"
   ]
  },
  {
   "cell_type": "code",
   "execution_count": null,
   "metadata": {
    "ExecuteTime": {
     "end_time": "2025-06-10T23:24:05.800262Z",
     "start_time": "2025-06-10T23:24:05.794352Z"
    }
   },
   "outputs": [],
   "source": [
    "a_dict['hello']"
   ]
  },
  {
   "cell_type": "code",
   "execution_count": null,
   "metadata": {
    "ExecuteTime": {
     "end_time": "2025-06-10T23:24:05.839413Z",
     "start_time": "2025-06-10T23:24:05.819928Z"
    }
   },
   "outputs": [],
   "source": [
    "# спроба отримання значення за неісуючим ключем\n",
    "a_dict['hello1']"
   ]
  },
  {
   "cell_type": "markdown",
   "metadata": {},
   "source": [
    "#### За допомогою методу словників .get(key, default=None)\n",
    "* першим аргументом є ключ словника, за яким шукається значення\n",
    "* другим аргументом буде значення, яке повертається, якщо нема такого ключа\n",
    "* оримання значення цим методом відрізняється тим, що в разі невдачі програма не викидає помилку і продовжує виконання"
   ]
  },
  {
   "cell_type": "code",
   "execution_count": null,
   "metadata": {},
   "outputs": [],
   "source": [
    "x = a_dict.get('hello1')\n",
    "print(x) # by default for not existing key method will return None"
   ]
  },
  {
   "cell_type": "code",
   "execution_count": null,
   "metadata": {},
   "outputs": [],
   "source": [
    "x = a_dict.get('hello1', 'Текст')  # якщо в метод передати параметр, то його буде виведено в разі неіснування ключа\n",
    "print(x)"
   ]
  },
  {
   "cell_type": "markdown",
   "metadata": {},
   "source": [
    "<h2 style='text-align:center'> Видалення значення зі словника</h2>"
   ]
  },
  {
   "cell_type": "markdown",
   "metadata": {},
   "source": [
    "метод .pop()\n",
    "* аргументом в даному випадку є назва ключа\n",
    "* метод повертає видалений елемент\n",
    "* якщо ключа в словника не існує, вибиває помилку"
   ]
  },
  {
   "cell_type": "code",
   "execution_count": null,
   "metadata": {},
   "outputs": [],
   "source": [
    "a_dict = {1: 1, 2: 2}\n",
    "a_dict.pop(1)"
   ]
  },
  {
   "cell_type": "code",
   "execution_count": null,
   "metadata": {},
   "outputs": [],
   "source": [
    "# повторна спроба видалення з тим же самим ключем видає помилку\n",
    "a_dict.pop(1)"
   ]
  },
  {
   "cell_type": "markdown",
   "metadata": {},
   "source": [
    "#### За допомогою метода словників .clear()\n",
    "\n",
    ">Метод видаляє всі пари зі словника"
   ]
  },
  {
   "cell_type": "code",
   "execution_count": null,
   "metadata": {},
   "outputs": [],
   "source": [
    "b_dict = {1: 2,\n",
    "          2: 3,\n",
    "          3: 4}\n",
    "b_dict.clear()\n",
    "print(b_dict)"
   ]
  },
  {
   "cell_type": "markdown",
   "metadata": {},
   "source": [
    "За допомогою del"
   ]
  },
  {
   "cell_type": "code",
   "execution_count": null,
   "metadata": {},
   "outputs": [],
   "source": [
    "del a_dict['hello1']\n",
    "print(a_dict)"
   ]
  },
  {
   "cell_type": "code",
   "execution_count": null,
   "metadata": {},
   "outputs": [],
   "source": []
  },
  {
   "cell_type": "markdown",
   "metadata": {},
   "source": [
    "<h2 style='text-align:center'> Перевірка входження </h2>\n",
    "\n",
    "* перевіряється за ключем, а не за значенням\n",
    "* при спробі перевірки за значенням - повертає False"
   ]
  },
  {
   "cell_type": "code",
   "execution_count": null,
   "metadata": {},
   "outputs": [],
   "source": [
    "'hello' in a_dict # check by key"
   ]
  },
  {
   "cell_type": "code",
   "execution_count": null,
   "metadata": {},
   "outputs": [],
   "source": [
    "'WORLD' in a_dict # check by value"
   ]
  },
  {
   "cell_type": "markdown",
   "metadata": {},
   "source": [
    "<h2 style='text-align:center'>Використання функцій для словників</h2>"
   ]
  },
  {
   "cell_type": "markdown",
   "metadata": {},
   "source": [
    "* len(a_dict)\n",
    "* all()\tПовертає True, якщо всі елементи в ітерабельному списку 'істинні', і False в іншому випадку.\n",
    "* any()\tПовертає True, якщо хоча б один елемент в ітерабельному списку є правдивим, і False в іншому випадку.\n",
    "* max()\t\n",
    "* min()\t\n",
    "* sorted()\tReturns a new sorted list of the elements in the iterable.\n",
    "* sum()\tReturns the sum of a start value and the values in the input iterable from left to right.\n",
    "* list()"
   ]
  },
  {
   "cell_type": "markdown",
   "metadata": {},
   "source": [
    "Довжина словника"
   ]
  },
  {
   "cell_type": "code",
   "execution_count": null,
   "metadata": {},
   "outputs": [],
   "source": [
    "b_dict = {1: 2,\n",
    "          2: 3,\n",
    "          3: 4}\n",
    "len(b_dict)"
   ]
  },
  {
   "cell_type": "markdown",
   "metadata": {},
   "source": [
    "all() - Повертає True, якщо всі елементи в ітерабельному списку 'істинні', і False в іншому випадку."
   ]
  },
  {
   "cell_type": "code",
   "execution_count": null,
   "metadata": {},
   "outputs": [],
   "source": [
    "b_dict = {1: 0,\n",
    "          2: 3,\n",
    "          3: 4}\n",
    "print(all(b_dict.values()))\n",
    "b_dict[1] = 23\n",
    "print(all(b_dict.values()))"
   ]
  },
  {
   "cell_type": "markdown",
   "metadata": {},
   "source": [
    "list(dictionary) - створить список з ключів словника\n",
    "\n",
    "list(dictionary.values()) - створить список зі значень словника\n",
    "\n",
    "list(dictionary.items()) - створить список кортежів з ключа і значення відповідно"
   ]
  },
  {
   "cell_type": "code",
   "execution_count": null,
   "metadata": {},
   "outputs": [],
   "source": [
    "a_dict = {1: 2,\n",
    "          2: 3,\n",
    "          3: 4}\n",
    "print(list(a_dict))\n",
    "print(list(a_dict.values()))\n",
    "print(list(a_dict.items()))"
   ]
  },
  {
   "cell_type": "markdown",
   "metadata": {},
   "source": [
    "<h2 style='text-align:center'> Ітерування по словнику </h2>"
   ]
  },
  {
   "cell_type": "markdown",
   "metadata": {},
   "source": [
    "Ітерування по словнику за ключами"
   ]
  },
  {
   "cell_type": "code",
   "execution_count": null,
   "metadata": {},
   "outputs": [],
   "source": [
    "a_dict = {1: 2,\n",
    "          2: 3,\n",
    "          3: 4}\n",
    "for key in a_dict:\n",
    "    print(key)"
   ]
  },
  {
   "cell_type": "markdown",
   "metadata": {},
   "source": [
    "Ітерування по словнику за значеннями"
   ]
  },
  {
   "cell_type": "code",
   "execution_count": null,
   "metadata": {},
   "outputs": [],
   "source": [
    "for value in a_dict.values():\n",
    "    print(value)"
   ]
  },
  {
   "cell_type": "markdown",
   "metadata": {},
   "source": [
    "Ітерування по словнику за парами ключ-значення"
   ]
  },
  {
   "cell_type": "code",
   "execution_count": null,
   "metadata": {},
   "outputs": [],
   "source": [
    "knights = {'gallahad': 'the pure', 'robin': 'the brave'}\n",
    "for k, v in knights.items():\n",
    "    print(k, v)"
   ]
  },
  {
   "cell_type": "markdown",
   "metadata": {},
   "source": [
    "<h2 style='text-align:center'> Наповнення словника </h2>"
   ]
  },
  {
   "cell_type": "markdown",
   "metadata": {},
   "source": [
    "Через цикл"
   ]
  },
  {
   "cell_type": "code",
   "execution_count": null,
   "metadata": {},
   "outputs": [],
   "source": [
    "squares = {}\n",
    "for integer in range(1, 10):\n",
    "    squares[integer] = integer ** 2\n",
    "squares"
   ]
  },
  {
   "cell_type": "markdown",
   "metadata": {},
   "source": [
    "Через генератор словників"
   ]
  },
  {
   "cell_type": "code",
   "execution_count": null,
   "metadata": {},
   "outputs": [],
   "source": [
    "squares = {integer: integer ** 2 for integer in range(1, 10)}\n",
    "squares"
   ]
  }
 ],
 "metadata": {
  "kernelspec": {
   "display_name": "Python 3",
   "language": "python",
   "name": "python3"
  },
  "language_info": {
   "codemirror_mode": {
    "name": "ipython",
    "version": 3
   },
   "file_extension": ".py",
   "mimetype": "text/x-python",
   "name": "python",
   "nbconvert_exporter": "python",
   "pygments_lexer": "ipython3",
   "version": "3.13.3"
  }
 },
 "nbformat": 4,
 "nbformat_minor": 2
}
