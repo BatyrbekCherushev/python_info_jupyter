{
 "cells": [
  {
   "cell_type": "markdown",
   "id": "89b57761",
   "metadata": {},
   "source": [
    "# ВИКЛЮЧЕННЯ і ПОМИЛКИ (ERRORS and EXCEPTIONS)\n",
    "\n",
    "## try... except... вираз\n",
    "\n",
    "```\n",
    "try:\n",
    "    pass \n",
    "except:\n",
    "    pass\n",
    "else:\n",
    "    pass\n",
    "finally:\n",
    "    pass\n",
    "```\n",
    "\n",
    "### Порядок виконання:\n",
    "* спочатку виконується блок try\n",
    "* якщо помилки не виникає\n",
    "    * виконується блок else\n",
    "* якщо помилка виникає\n",
    "    * виконується блок except\n",
    "        * може бути загальним, без вказування конкретного типу помилки\n",
    "        * можна створювати під конкретний тип помилки свій except блок\n",
    "        * можна створити блок виключення для групи помилок перерахувавши їх в кортежі\n",
    "        * можна в виключення передати клас Exception() для отримання інформації про помилку\n",
    "* виконується блок finally  в незалежності від того чи була помилка чи ні\n",
    "\n",
    "### Особливості роботи виразу виключення\n",
    "* якщо блок try має в собі декілька помилкових виразів, то виключення спрацьовує на першу зустрінуту помилку\n",
    "\n",
    "\n",
    "### Тематичні посилання:\n",
    "\n",
    "* [aCode - Винятки в Python](https://acode.com.ua/exceptions-python/)\n",
    "* [Exceptions](https://book.pythontips.com/en/latest/exceptions.html)\n",
    "* [RealPython - Python Exceptions: An Introduction](https://realpython.com/python-exceptions/)\n",
    "* []()\n",
    "\n"
   ]
  },
  {
   "cell_type": "markdown",
   "id": "734f1228",
   "metadata": {},
   "source": [
    "### Вираз виключення без вказання конкретної помилки"
   ]
  },
  {
   "cell_type": "code",
   "execution_count": null,
   "id": "4aeab1c8",
   "metadata": {},
   "outputs": [],
   "source": [
    "try:\n",
    "    1 / 0\n",
    "except:\n",
    "    print('Error occured')"
   ]
  },
  {
   "cell_type": "markdown",
   "id": "bc405ed1",
   "metadata": {},
   "source": [
    "### Вираз виключення з використанням класу Exception для отримання інформації про помилку і використанням аліаса\n",
    "\n",
    "інстанс цього класа включає в себе різні атрибути, що містять інформацію про помилку"
   ]
  },
  {
   "cell_type": "code",
   "execution_count": null,
   "id": "f00cafee",
   "metadata": {},
   "outputs": [],
   "source": [
    "try:\n",
    "    1 / 0\n",
    "except Exception as error_instance:\n",
    "    print(error_instance)\n",
    "    print(type(error_instance))\n",
    "    print(error_instance.args)\n",
    "    print(dir(error_instance))\n"
   ]
  },
  {
   "cell_type": "code",
   "execution_count": null,
   "id": "d0b9ef0b",
   "metadata": {},
   "outputs": [],
   "source": [
    "try:\n",
    "    '1' + 1\n",
    "except Exception as error_instance:\n",
    "    print(error_instance)\n",
    "    print(type(error_instance))\n",
    "    print(error_instance.args)"
   ]
  },
  {
   "cell_type": "markdown",
   "id": "a219026f",
   "metadata": {},
   "source": [
    "> ### Виключення спрацьовує на першу зустрінуту помилку"
   ]
  },
  {
   "cell_type": "code",
   "execution_count": null,
   "id": "1e328f4e",
   "metadata": {},
   "outputs": [],
   "source": [
    "try:\n",
    "    [1, 2, 3][5]\n",
    "    '1' + 1\n",
    "except Exception as error_instance:\n",
    "    print(error_instance)\n",
    "    print(type(error_instance))\n",
    "    print(error_instance.args)"
   ]
  },
  {
   "cell_type": "markdown",
   "id": "c150a94a",
   "metadata": {},
   "source": [
    "### Виключення для конкретного типу помилки"
   ]
  },
  {
   "cell_type": "code",
   "execution_count": null,
   "id": "832461a3",
   "metadata": {},
   "outputs": [],
   "source": [
    "try:\n",
    "    '1' + 1\n",
    "except TypeError:\n",
    "    print('---> TypeError occured')\n",
    "\n",
    "try:\n",
    "    1 / 0\n",
    "except ZeroDivisionError:\n",
    "    print('---> ZeroDivisionError occured')\n",
    "\n",
    "try:\n",
    "    [1, 2, 3][5]\n",
    "    '1' + 1\n",
    "except IndexError:\n",
    "    print('---> IndexError occured')"
   ]
  },
  {
   "cell_type": "markdown",
   "id": "05873d67",
   "metadata": {},
   "source": [
    "### Поєднання різних виключень в одному виразі"
   ]
  },
  {
   "cell_type": "code",
   "execution_count": null,
   "id": "4579bdfb",
   "metadata": {},
   "outputs": [],
   "source": [
    "try:\n",
    "    # '1' + 1\n",
    "    # [1, 2, 3][5]\n",
    "    1 / 0\n",
    "except TypeError:\n",
    "    print('---> TypeError occured')\n",
    "except ZeroDivisionError:\n",
    "    print('---> ZeroDivisionError occured')\n",
    "except IndexError:\n",
    "    print('---> IndexError occured')\n",
    "\n",
    "print('-------------------------')\n",
    "\n",
    "try:\n",
    "    # '1' + 1\n",
    "    # [1, 2, 3][5]\n",
    "    1 / 0\n",
    "except (TypeError, ZeroDivisionError, IndexError):\n",
    "    print('---> IndexError or TypeError or ZeroDivisionError occured')"
   ]
  },
  {
   "cell_type": "markdown",
   "id": "82760038",
   "metadata": {},
   "source": [
    "### Блок else виконується в разі якщо не виникло помилки в блоку try"
   ]
  },
  {
   "cell_type": "code",
   "execution_count": null,
   "id": "34170591",
   "metadata": {},
   "outputs": [],
   "source": [
    "# коли НЕ має помилки, спрацьовує блок else\n",
    "try:\n",
    "    new_var = 1\n",
    "except Exception as error_instance:\n",
    "    print(error_instance)\n",
    "    print(type(error_instance))\n",
    "    print(error_instance.args)\n",
    "else:\n",
    "    print('---> error DID NOT occur')\n",
    "\n",
    "print('\\n---------------------\\n')\n",
    "\n",
    "# коли є помилка, блок else не спрацьовує\n",
    "try:\n",
    "    1 / 0\n",
    "except Exception as error_instance:\n",
    "    print(error_instance)\n",
    "    print(type(error_instance))\n",
    "    print(error_instance.args)\n",
    "else:\n",
    "    print('---> error DID NOT occur')"
   ]
  },
  {
   "cell_type": "markdown",
   "id": "6fb382d8",
   "metadata": {},
   "source": [
    "### Блок finally спрацьовує в незалежності від того чи виникла помилка, чи ні"
   ]
  },
  {
   "cell_type": "code",
   "execution_count": null,
   "id": "a6efda49",
   "metadata": {},
   "outputs": [],
   "source": [
    "# ERROR doesn`t occur\n",
    "try:\n",
    "    print('TRY block')\n",
    "    new_var = 1\n",
    "except:\n",
    "    print('EXCEPTION block')\n",
    "else:\n",
    "    print('ELSE block')\n",
    "finally:\n",
    "    print('FINALLY block')\n",
    "\n",
    "print('\\n---------------------\\n')\n",
    "\n",
    "# ERROR occurs\n",
    "try:\n",
    "    print('TRY block')\n",
    "    1 / 0\n",
    "except:\n",
    "    print('EXCEPTION block')\n",
    "else:\n",
    "    print('ELSE block')\n",
    "finally:\n",
    "    print('FINALLY block')"
   ]
  },
  {
   "cell_type": "markdown",
   "id": "9270cd92",
   "metadata": {},
   "source": [
    "## RAISE\n",
    "\n",
    "* Операція raise викликає помилку за потреби. Можна передати об'єкт класу Exception з певним аргументами, що присвояться до атрибуту args інстансу цього об'єкта\n",
    "    * при такому виклику виключення програма зупиняється\n",
    "* Використання її у виключенні у блоку except робить виклик тієї ж помилки по якій було виключення, але вже без спрацюювання виключення, а спрацювання реакції інтерпретатора на помилку"
   ]
  },
  {
   "cell_type": "code",
   "execution_count": null,
   "id": "624b07fd",
   "metadata": {},
   "outputs": [],
   "source": [
    "number = 10\n",
    "if number > 5:\n",
    "    raise Exception(f\"The number should not exceed 5. ({number=})\")\n",
    "print(number)"
   ]
  },
  {
   "cell_type": "code",
   "execution_count": null,
   "id": "0c176fee",
   "metadata": {},
   "outputs": [],
   "source": [
    "# ERROR occurs\n",
    "try:\n",
    "    print('TRY block')\n",
    "    1 / 0\n",
    "except:\n",
    "    print('EXCEPTION block')\n",
    "    raise\n",
    "else:\n",
    "    print('ELSE block')\n",
    "finally:\n",
    "    print('FINALLY block')"
   ]
  },
  {
   "cell_type": "markdown",
   "id": "384f0715",
   "metadata": {},
   "source": [
    "## Виклик кастомного виключення, що наслідує клас Exception"
   ]
  },
  {
   "cell_type": "code",
   "execution_count": null,
   "id": "1c1a8a55",
   "metadata": {},
   "outputs": [],
   "source": [
    "class CustomException(Exception):\n",
    "    \"\"\"My custom exception\"\"\"\n",
    "    pass\n",
    "\n",
    "try:\n",
    "    raise  CustomException(1,2,3)\n",
    "except CustomException:\n",
    "    print('--->>> CustomException occured')"
   ]
  }
 ],
 "metadata": {
  "kernelspec": {
   "display_name": "Python 3",
   "language": "python",
   "name": "python3"
  },
  "language_info": {
   "codemirror_mode": {
    "name": "ipython",
    "version": 3
   },
   "file_extension": ".py",
   "mimetype": "text/x-python",
   "name": "python",
   "nbconvert_exporter": "python",
   "pygments_lexer": "ipython3",
   "version": "3.13.5"
  }
 },
 "nbformat": 4,
 "nbformat_minor": 5
}
