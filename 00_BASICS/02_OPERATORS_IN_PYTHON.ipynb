{
 "cells": [
  {
   "metadata": {},
   "cell_type": "markdown",
   "source": "<h1>PYTHON OPERATORS</h1",
   "id": "723291f7da733ab3"
  },
  {
   "metadata": {},
   "cell_type": "markdown",
   "source": [
    "<h2>Arithmetic Operators</h2>\n",
    "These operators perform basic mathematical operations like addition, subtraction, multiplication\n",
    "\n",
    "* addition: x + y\n",
    "* subtraction: x - y\n",
    "* multiplication: x * y\n",
    "* division: x / y\n",
    "* modulo: x % y\n",
    "* floor division: x // y\n",
    "* exponentiation: x ** y\n",
    "\n",
    "As in math, we have arithmetic order in python. Here is an example by precedence (From lowest to highest): `+`, `-`, `*`, `/`, `//`, `%`, `-` (negation), `+` (unchanged), `abs`, `int`, `float`, `**`."
   ],
   "id": "5b8168d41ba45c49"
  },
  {
   "metadata": {},
   "cell_type": "markdown",
   "source": [
    "<h2>Assignment Operators</h2>\n",
    "\n",
    "* x = 10\n",
    "* x += 5\n",
    "* x -= 5\n",
    "* x *= 5\n",
    "* x /= 5\n"
   ],
   "id": "b46824d29bfb0d4a"
  },
  {
   "metadata": {},
   "cell_type": "markdown",
   "source": [
    "<h2>Boolean and Comparison Operators</h2>\n",
    "\n",
    "<h3>Boolean operators</h3>\n",
    "* a and b\n",
    "* a or b\n",
    "* not a\n",
    "\n",
    "As arithmetic order precedence, we have the boolean operators precedence as follows (from higher to lower): `not`, `and`, `or`\n",
    "\n",
    "<h3>Comparison operators</h3>\n",
    "\n",
    "* a == b\n",
    "* a != b\n",
    "* a > b\n",
    "* a >= b\n",
    "* a < b\n",
    "* a <= b\n",
    "\n",
    "They all have the same priority but higher than priority of Boolean operations.\n",
    "Порівняння можна з'єднати в ланцюжок, який буде перевірятися зліва направо. Якщо на якомусь етапі перевірка дасть результат False, то весь ланцюжок вважається ЛОЖНИМ\n",
    "\n",
    "a < b < c < d < e < f\n"
   ],
   "id": "7a8006826e0f3327"
  },
  {
   "metadata": {},
   "cell_type": "code",
   "source": [
    "print(1 < 2 < 4 < 10)\n",
    "print(2 > 5 < 2)"
   ],
   "id": "c812f332c269f7cd",
   "outputs": [],
   "execution_count": null
  },
  {
   "metadata": {},
   "cell_type": "markdown",
   "source": [
    "## Identity and Membership Operators\n",
    "* a is b\n",
    "* a is not b\n",
    "* a in sequence\n",
    "* a not in sequence\n"
   ],
   "id": "6213cf98dccf2ac2"
  }
 ],
 "metadata": {
  "kernelspec": {
   "display_name": "Python 3",
   "language": "python",
   "name": "python3"
  },
  "language_info": {
   "codemirror_mode": {
    "name": "ipython",
    "version": 2
   },
   "file_extension": ".py",
   "mimetype": "text/x-python",
   "name": "python",
   "nbconvert_exporter": "python",
   "pygments_lexer": "ipython2",
   "version": "2.7.6"
  }
 },
 "nbformat": 4,
 "nbformat_minor": 5
}
