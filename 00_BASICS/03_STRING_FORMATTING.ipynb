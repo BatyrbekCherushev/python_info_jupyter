{
 "cells": [
  {
   "metadata": {},
   "cell_type": "markdown",
   "source": [
    "<h1>РОБОТА З РЯДКОМ В PYTHON </h1>\n",
    "\n"
   ],
   "id": "38acda1ade55aec7"
  },
  {
   "metadata": {},
   "cell_type": "markdown",
   "source": [
    "<H2>ПРЕДСТАВЛЕННЯ РЯДКІВ</H2>\n",
    "\n",
    "Рядок можна вказати в одинарних лапках 'Some text'\n",
    "\n",
    "В подвійних лапках \"Some text\"\n",
    "\n",
    "В потроєних одинарних і в потроєних подвійних - тоді текст вказаний в середині таких лапок буде виводитися з усіми переведеннями на інший рядок, табуляціями, навіть без вставлення спеціальних символів"
   ],
   "id": "bcbf25a68d16716a"
  },
  {
   "metadata": {},
   "cell_type": "markdown",
   "source": "<H2>ІНДЕКСАЦІЯ</H2>",
   "id": "c125327115da2905"
  },
  {
   "metadata": {},
   "cell_type": "markdown",
   "source": "<H2>ФУНКЦІЇ для РЯДКІВ</H2>",
   "id": "ec563474b19b22b5"
  },
  {
   "metadata": {},
   "cell_type": "markdown",
   "source": "<H2>МЕТОДИ РЯДКІВ</H2>",
   "id": "fa0ceca308793e40"
  },
  {
   "metadata": {},
   "cell_type": "markdown",
   "source": "<H2>ФОРМАТУВАННЯ РЯДКА</H2>",
   "id": "5cc6c57789fc6ca3"
  },
  {
   "metadata": {},
   "cell_type": "markdown",
   "source": [
    "print(f'Superhero\\'s name is {name}, his super power - {super_power.upper()}, his enemy - {enemy[:2]}.')\n",
    "\n",
    "print('Superhero name is {1}, his super power - {0}, his enemy - {2}'.format(super_power, enemy, name))\n",
    "\n",
    "print('Superhero name is %s, his super power - %s, his enemy - %s' % (name, super_power, enemy))"
   ],
   "id": "3778bb3a5c3f7d99"
  }
 ],
 "metadata": {
  "kernelspec": {
   "display_name": "Python 3",
   "language": "python",
   "name": "python3"
  },
  "language_info": {
   "codemirror_mode": {
    "name": "ipython",
    "version": 2
   },
   "file_extension": ".py",
   "mimetype": "text/x-python",
   "name": "python",
   "nbconvert_exporter": "python",
   "pygments_lexer": "ipython2",
   "version": "2.7.6"
  }
 },
 "nbformat": 4,
 "nbformat_minor": 5
}
