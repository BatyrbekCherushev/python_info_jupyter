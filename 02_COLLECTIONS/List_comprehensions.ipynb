{
 "cells": [
  {
   "cell_type": "markdown",
   "id": "da6fa36c",
   "metadata": {},
   "source": [
    "<h1 style='text-align:center'>ГЕНЕРАТОРИ СПИСКІВ (LIST COMPREHENSIONS)</h1>\n",
    "\n",
    "Генератор списків у Python забезпечує лаконічний спосіб створення списків шляхом вбудовування циклу та необов'язкової умовної логіки в один рядок. Ви використовуєте розуміння списків для ефективного перетворення та фільтрування елементів зі списку, що повторюється. Це дозволяє замінити складні цикли та функції map() на більш читабельні та часто швидші вирази. Розуміючи розуміння списків, ви можете оптимізувати свій код для кращої продуктивності та зрозумілості."
   ]
  },
  {
   "cell_type": "markdown",
   "id": "c3e666be",
   "metadata": {},
   "source": [
    "\n",
    "> new_list = [**Output Expression** + **Input Sequence** + **Optional Conditional Expression**]\n",
    "\n",
    "* вихідний вираз (**Output Expression**) - це сам член, виклик методу або будь-який інший допустимий вираз, що повертає значення:\n",
    "    * ідентифікатор\n",
    "    * обчислюємий вираз із ідентифікаторів і операторів\n",
    "    * функції, методи\n",
    "    * конструктори колекції\n",
    "    * тернарний умовний вираз\n",
    "* вхідна послідовність (**Input Sequence**) - це цикл, або група вкладених циклів, що проходять по ітеруємим об'єктам послідовно видаючи значення для вихідного виразу\n",
    "* Необов'язковий умовний вираз (**Optional Conditional Expression** ) - фільтрує значення з вхідної послідовності застосовуючи умовні вирази"
   ]
  },
  {
   "cell_type": "markdown",
   "id": "efb33a65",
   "metadata": {},
   "source": [
    "## Базовий синтаксис\n",
    "\n",
    "> new_list = [**Expression** for **member** in **iterable**]"
   ]
  },
  {
   "cell_type": "code",
   "execution_count": null,
   "id": "34aebfde",
   "metadata": {},
   "outputs": [],
   "source": [
    "numbers = [number for number in range(10)]\n",
    "numbers"
   ]
  },
  {
   "cell_type": "markdown",
   "id": "21d701d7",
   "metadata": {},
   "source": [
    "Використання виразу"
   ]
  },
  {
   "cell_type": "code",
   "execution_count": null,
   "id": "62e4d958",
   "metadata": {},
   "outputs": [],
   "source": [
    "numbers = [1, 2, 3, 4]\n",
    "squares = [n ** 2 for n in numbers]\n",
    "print(squares)"
   ]
  },
  {
   "cell_type": "markdown",
   "id": "2fe901b5",
   "metadata": {},
   "source": [
    "## Генератор з подвійним (вкладеним) циклом\n"
   ]
  },
  {
   "cell_type": "code",
   "execution_count": null,
   "id": "73ab3abd",
   "metadata": {},
   "outputs": [],
   "source": [
    "new_list = []\n",
    "for a in range(5):\n",
    "    for b in range(5):\n",
    "        new_list.append(a + b)\n",
    "\n",
    "print(new_list)\n",
    "\n",
    "#Те ж саме через генератор заміняємо на:\n",
    "\n",
    "new_list = [a + b for a in range(5) for b in range(5)]\n",
    "print(new_list)"
   ]
  },
  {
   "cell_type": "markdown",
   "id": "c94fe391",
   "metadata": {},
   "source": [
    "## Генератор, що повертає кортежі значень"
   ]
  },
  {
   "cell_type": "code",
   "execution_count": null,
   "id": "da31c04b",
   "metadata": {},
   "outputs": [],
   "source": [
    "list_a = [1, 2, 3]\n",
    "list_b = [2, 7]\n",
    "\n",
    "different_num = [(a, b) for a in list_a for b in list_b]\n",
    "\n",
    "print(different_num) # Output: [(1, 2), (1, 7), (2, 7), (3, 2), (3, 7)]"
   ]
  },
  {
   "cell_type": "markdown",
   "id": "5d730b98",
   "metadata": {},
   "source": [
    "## Генератор з умовною логікою\n",
    "\n",
    "Базовий синтаксис\n",
    ">new_list = [**expression** for **member** in **iterable** if **conditional**]\n",
    "\n"
   ]
  },
  {
   "cell_type": "code",
   "execution_count": null,
   "id": "3d0e101c",
   "metadata": {},
   "outputs": [],
   "source": [
    "sentence = \"the rocket came back from mars\"\n",
    "chars = [char for char in sentence if char in \"aeiou\"]\n",
    "chars"
   ]
  },
  {
   "cell_type": "markdown",
   "id": "40aa4933",
   "metadata": {},
   "source": [
    "## Генератор з тернарним виразом попереду\n",
    "\n",
    "Базовий синтаксис\n",
    ">new_list = [true_expr if conditional else false_expr for member in iterable]\n",
    "\n",
    "Помістивши умовну логіку на початку обробки списку, ви можете використовувати умовну логіку для вибору з декількох можливих варіантів виводу. Наприклад, якщо у вас є список цін, ви можете замінити від'ємні ціни на 0, а додатні значення залишити без змін"
   ]
  },
  {
   "cell_type": "code",
   "execution_count": null,
   "id": "2bf79b99",
   "metadata": {},
   "outputs": [],
   "source": [
    "original_prices = [1.25, -9.45, 10.22, 3.78, -5.92, 1.16]\n",
    "prices = [price if price > 0 else 0 for price in original_prices]\n",
    "prices"
   ]
  },
  {
   "cell_type": "markdown",
   "id": "bfd89247",
   "metadata": {},
   "source": [
    "## Генератор множини"
   ]
  },
  {
   "cell_type": "code",
   "execution_count": null,
   "id": "ef0decde",
   "metadata": {},
   "outputs": [],
   "source": [
    "quote = \"life, uh, finds a way\"\n",
    "chars = {char for char in quote if char in \"aeiou\"}\n",
    "chars\n"
   ]
  },
  {
   "cell_type": "markdown",
   "id": "ab7c3198",
   "metadata": {},
   "source": [
    "## Генератор словника"
   ]
  },
  {
   "cell_type": "code",
   "execution_count": null,
   "id": "14d4d85a",
   "metadata": {},
   "outputs": [],
   "source": [
    "print({number: number * number for number in range(10)})"
   ]
  }
 ],
 "metadata": {
  "kernelspec": {
   "display_name": "Python 3",
   "language": "python",
   "name": "python3"
  },
  "language_info": {
   "codemirror_mode": {
    "name": "ipython",
    "version": 3
   },
   "file_extension": ".py",
   "mimetype": "text/x-python",
   "name": "python",
   "nbconvert_exporter": "python",
   "pygments_lexer": "ipython3",
   "version": "3.13.3"
  }
 },
 "nbformat": 4,
 "nbformat_minor": 5
}
