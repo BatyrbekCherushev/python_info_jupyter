{
 "cells": [
  {
   "cell_type": "markdown",
   "metadata": {},
   "source": [
    "<h1 style='text-align:center'> СЛОВНИКИ (DICTIONARIES) </h1>\n",
    "\n",
    "## Особливості словників\n",
    "* це невпорядковані колекції (елементи не мають індексів) - Починаючи з Python 3.7, словники зберігають елементи у тому ж порядку, в якому вони були вставлені.\n",
    "* змінювані (mutable) колекції\n",
    "* індексується за ключем\n",
    "* дані в словнику організовані по принципу ключ - значення\n",
    "* ключами можуть бути тільки незмінювані (immutable) значення (рядки, числові значення, кортежі, які не містять в собі інших змінюваних значень прямо чи опосередковано).Ключами можуть бути тільки хешуємі єб'єкти пайтон.\n",
    "    * рядки\n",
    "    * числа\n",
    "    * незмінювані кортежі\n",
    "    * True, False\n",
    "    * об'єкти типів даних int, bool, float ...\n",
    "* ключі мають бути унікальні значення, так само як і в множинах\n",
    "* значеннями (values) словнику можуть бути будь які змінювані чи незмінювані типи об'єктів:\n",
    "    * рядки\n",
    "    * числа\n",
    "    * інші колекції\n",
    "\n",
    "\n",
    "## Операції зі словниками\n",
    "* створення словника\n",
    "* отримання значення за ключем\n",
    "* входження в словник\n",
    "* додавання нового значення в словник\n",
    "* зміна існуючого значення в словнику\n",
    "* розширення словника за рахунок іншого\n",
    "* видалення значення зі словника\n",
    "\n",
    "## Функції для словників\n",
    "* len(dict) \n",
    "* list(dict)\n",
    "* sorted(dict)\n",
    "* enumerate(dict)\n",
    "\n",
    "## Методи словників\n",
    "* dict.update(some_dict)\n",
    "* dict.get(key)\n",
    "* dict.items()\n",
    "* dict.fromkeys(iterable, value=None, /)"
   ]
  },
  {
   "cell_type": "markdown",
   "metadata": {},
   "source": [
    "\n",
    "<h2 style = 'text-align:center'> Створення словника </h2>"
   ]
  },
  {
   "cell_type": "markdown",
   "metadata": {},
   "source": [
    "Створення пустого словника\n",
    "* треба звернути уваги, що таким чином пусті множини не створюютья, тільки словники"
   ]
  },
  {
   "cell_type": "code",
   "execution_count": null,
   "metadata": {
    "ExecuteTime": {
     "end_time": "2025-06-10T23:24:05.596372Z",
     "start_time": "2025-06-10T23:24:05.592002Z"
    }
   },
   "outputs": [
    {
     "name": "stdout",
     "output_type": "stream",
     "text": [
      "{}\n",
      "<class 'dict'>\n"
     ]
    }
   ],
   "source": [
    "a_dict = {}\n",
    "print(a_dict)\n",
    "print(type(a_dict)) # type is dictionary class, not a set class\n"
   ]
  },
  {
   "cell_type": "markdown",
   "metadata": {},
   "source": [
    "створення словника із початковими значеннями"
   ]
  },
  {
   "cell_type": "code",
   "execution_count": 3,
   "metadata": {
    "ExecuteTime": {
     "end_time": "2025-06-10T23:24:05.682321Z",
     "start_time": "2025-06-10T23:24:05.677620Z"
    }
   },
   "outputs": [
    {
     "name": "stdout",
     "output_type": "stream",
     "text": [
      "{'hello': 'world', 'hello2': 'world'}\n"
     ]
    }
   ],
   "source": [
    "a_dict = {'hello': 'world', 'hello2': 'world'}\n",
    "print(a_dict)"
   ]
  },
  {
   "cell_type": "markdown",
   "metadata": {},
   "source": [
    "створення пустого словника через конструктор dict()"
   ]
  },
  {
   "cell_type": "code",
   "execution_count": null,
   "metadata": {
    "ExecuteTime": {
     "end_time": "2025-06-10T23:24:05.651216Z",
     "start_time": "2025-06-10T23:24:05.646091Z"
    }
   },
   "outputs": [
    {
     "name": "stdout",
     "output_type": "stream",
     "text": [
      "{}\n"
     ]
    }
   ],
   "source": [
    "a_dict = dict()\n",
    "print(a_dict)"
   ]
  },
  {
   "cell_type": "markdown",
   "metadata": {},
   "source": [
    "створення словника через конструктор dict()\n",
    "\n",
    "* аргументом передаєм список кортежів з ключами та значеннями відповідно"
   ]
  },
  {
   "cell_type": "code",
   "execution_count": null,
   "metadata": {
    "ExecuteTime": {
     "end_time": "2025-06-10T23:24:05.720003Z",
     "start_time": "2025-06-10T23:24:05.714023Z"
    }
   },
   "outputs": [
    {
     "name": "stdout",
     "output_type": "stream",
     "text": [
      "{'hello': 'world', 'hello2': 'world', 'hello3': 'world'}\n"
     ]
    }
   ],
   "source": [
    "a_dict = dict([('hello', 'world'),\n",
    "               ('hello2', 'world'),\n",
    "               ('hello3', 'world')]) \n",
    "print(a_dict)"
   ]
  },
  {
   "cell_type": "markdown",
   "metadata": {},
   "source": [
    "створення словника через конструктор dict() через інший синтаксис"
   ]
  },
  {
   "cell_type": "code",
   "execution_count": null,
   "metadata": {
    "ExecuteTime": {
     "end_time": "2025-06-10T23:24:05.769355Z",
     "start_time": "2025-06-10T23:24:05.764636Z"
    }
   },
   "outputs": [
    {
     "name": "stdout",
     "output_type": "stream",
     "text": [
      "{'hello': 'world'}\n"
     ]
    }
   ],
   "source": [
    "a_dict = dict(\n",
    "    hello = 'world',\n",
    ")\n",
    "print(a_dict)"
   ]
  },
  {
   "cell_type": "markdown",
   "metadata": {},
   "source": [
    "Із використанням метода dict.fromkeys(iterable, value=None, /)"
   ]
  },
  {
   "cell_type": "code",
   "execution_count": 12,
   "metadata": {},
   "outputs": [
    {
     "name": "stdout",
     "output_type": "stream",
     "text": [
      "{'apple': 0, 'orange': 0, 'banana': 0, 'mango': 0}\n",
      "{'apple': None, 'orange': None, 'banana': None, 'mango': None}\n"
     ]
    }
   ],
   "source": [
    "inventory = dict.fromkeys([\"apple\", \"orange\", \"banana\", \"mango\"], 0)\n",
    "print(inventory)\n",
    "\n",
    "# no second argument\n",
    "inventory = dict.fromkeys([\"apple\", \"orange\", \"banana\", \"mango\"]) \n",
    "print(inventory)"
   ]
  },
  {
   "cell_type": "markdown",
   "metadata": {},
   "source": [
    "<h2 style='text-align:center'>Отримання значення за ключем</h2>"
   ]
  },
  {
   "cell_type": "code",
   "execution_count": 6,
   "metadata": {
    "ExecuteTime": {
     "end_time": "2025-06-10T23:24:05.800262Z",
     "start_time": "2025-06-10T23:24:05.794352Z"
    }
   },
   "outputs": [
    {
     "data": {
      "text/plain": [
       "'world'"
      ]
     },
     "execution_count": 6,
     "metadata": {},
     "output_type": "execute_result"
    }
   ],
   "source": [
    "a_dict['hello']"
   ]
  },
  {
   "cell_type": "code",
   "execution_count": 7,
   "metadata": {
    "ExecuteTime": {
     "end_time": "2025-06-10T23:24:05.839413Z",
     "start_time": "2025-06-10T23:24:05.819928Z"
    }
   },
   "outputs": [
    {
     "ename": "KeyError",
     "evalue": "'hello1'",
     "output_type": "error",
     "traceback": [
      "\u001b[31m---------------------------------------------------------------------------\u001b[39m",
      "\u001b[31mKeyError\u001b[39m                                  Traceback (most recent call last)",
      "\u001b[36mCell\u001b[39m\u001b[36m \u001b[39m\u001b[32mIn[7]\u001b[39m\u001b[32m, line 2\u001b[39m\n\u001b[32m      1\u001b[39m \u001b[38;5;66;03m# спроба отримання значення за неісуючим ключем\u001b[39;00m\n\u001b[32m----> \u001b[39m\u001b[32m2\u001b[39m \u001b[43ma_dict\u001b[49m\u001b[43m[\u001b[49m\u001b[33;43m'\u001b[39;49m\u001b[33;43mhello1\u001b[39;49m\u001b[33;43m'\u001b[39;49m\u001b[43m]\u001b[49m\n",
      "\u001b[31mKeyError\u001b[39m: 'hello1'"
     ]
    }
   ],
   "source": [
    "# спроба отримання значення за неісуючим ключем\n",
    "a_dict['hello1']"
   ]
  },
  {
   "cell_type": "code",
   "execution_count": null,
   "metadata": {},
   "outputs": [],
   "source": [
    "x = a_dict.get('hello1')\n",
    "print(x) # by default for not existing key method will return None"
   ]
  },
  {
   "cell_type": "code",
   "execution_count": null,
   "metadata": {},
   "outputs": [],
   "source": [
    "x = a_dict.get('hello1', 'Текст')  # якщо в метод передати параметр, то його буде виведено в разі неіснування ключа\n",
    "print(x)"
   ]
  },
  {
   "cell_type": "markdown",
   "metadata": {},
   "source": [
    "### Створення нового значення "
   ]
  },
  {
   "cell_type": "code",
   "execution_count": 18,
   "metadata": {},
   "outputs": [
    {
     "name": "stdout",
     "output_type": "stream",
     "text": [
      "{'hello1': 'world1', 'hello': 'WORLD'}\n",
      "{'hello1': 'world1', 'hello': 'WORLD'}\n"
     ]
    }
   ],
   "source": [
    "print(a_dict)\n",
    "a_dict['hello1'] = 'world1'\n",
    "print(a_dict)"
   ]
  },
  {
   "cell_type": "markdown",
   "metadata": {},
   "source": [
    "### Зміна існуючого значення"
   ]
  },
  {
   "cell_type": "code",
   "execution_count": 26,
   "metadata": {},
   "outputs": [
    {
     "name": "stdout",
     "output_type": "stream",
     "text": [
      "{1: 'apple', 2: 'tomato'}\n",
      "{1: 'potato', 2: 'tomato'}\n"
     ]
    }
   ],
   "source": [
    "food_dict = {\n",
    "    1: 'apple',\n",
    "    2: 'tomato'}\n",
    "print(food_dict)\n",
    "food_dict[1] = 'potato'\n",
    "print(food_dict)"
   ]
  },
  {
   "cell_type": "markdown",
   "metadata": {},
   "source": [
    "### Розширення словника"
   ]
  },
  {
   "cell_type": "code",
   "execution_count": 27,
   "metadata": {},
   "outputs": [
    {
     "name": "stdout",
     "output_type": "stream",
     "text": [
      "{1: 'potato', 2: 'tomato', 3: 'cucumber'}\n"
     ]
    }
   ],
   "source": [
    "food_dict.update({3: 'cucumber'})\n",
    "print(food_dict)"
   ]
  },
  {
   "cell_type": "markdown",
   "metadata": {},
   "source": [
    "### Видалення значення зі словника"
   ]
  },
  {
   "cell_type": "markdown",
   "metadata": {},
   "source": [
    "метод .pop()\n",
    "* аргументом в даному випадку є назва ключа\n",
    "* метод повертає видалений елемент\n",
    "* якщо ключа в словника не існує, вибиває помилку"
   ]
  },
  {
   "cell_type": "code",
   "execution_count": 28,
   "metadata": {},
   "outputs": [
    {
     "data": {
      "text/plain": [
       "'potato'"
      ]
     },
     "execution_count": 28,
     "metadata": {},
     "output_type": "execute_result"
    }
   ],
   "source": [
    "a_dict.pop(1)"
   ]
  },
  {
   "cell_type": "code",
   "execution_count": 29,
   "metadata": {},
   "outputs": [
    {
     "ename": "KeyError",
     "evalue": "1",
     "output_type": "error",
     "traceback": [
      "\u001b[31m---------------------------------------------------------------------------\u001b[39m",
      "\u001b[31mKeyError\u001b[39m                                  Traceback (most recent call last)",
      "\u001b[36mCell\u001b[39m\u001b[36m \u001b[39m\u001b[32mIn[29]\u001b[39m\u001b[32m, line 1\u001b[39m\n\u001b[32m----> \u001b[39m\u001b[32m1\u001b[39m \u001b[43ma_dict\u001b[49m\u001b[43m.\u001b[49m\u001b[43mpop\u001b[49m\u001b[43m(\u001b[49m\u001b[32;43m1\u001b[39;49m\u001b[43m)\u001b[49m\n",
      "\u001b[31mKeyError\u001b[39m: 1"
     ]
    }
   ],
   "source": [
    "a_dict.pop(1)"
   ]
  },
  {
   "cell_type": "markdown",
   "metadata": {},
   "source": [
    "За допомогою del"
   ]
  },
  {
   "cell_type": "code",
   "execution_count": null,
   "metadata": {},
   "outputs": [],
   "source": [
    "del a_dict['hello1']\n",
    "print(a_dict)"
   ]
  },
  {
   "cell_type": "markdown",
   "metadata": {},
   "source": [
    "<h2 style='text-align:center'> Перевірка входження </h2>\n",
    "\n",
    "* перевіряється за ключем, а не за значенням\n",
    "* при спробі перевірки за значенням - повертає False"
   ]
  },
  {
   "cell_type": "code",
   "execution_count": null,
   "metadata": {},
   "outputs": [],
   "source": [
    "'hello' in a_dict # check by key"
   ]
  },
  {
   "cell_type": "code",
   "execution_count": null,
   "metadata": {},
   "outputs": [],
   "source": [
    "'WORLD' in a_dict # check by value"
   ]
  },
  {
   "cell_type": "markdown",
   "metadata": {},
   "source": [
    "<h3 style='text-align:center'> Довжина словника </h3>"
   ]
  },
  {
   "cell_type": "code",
   "execution_count": 8,
   "metadata": {},
   "outputs": [
    {
     "data": {
      "text/plain": [
       "1"
      ]
     },
     "execution_count": 8,
     "metadata": {},
     "output_type": "execute_result"
    }
   ],
   "source": [
    "len(a_dict)"
   ]
  },
  {
   "cell_type": "markdown",
   "metadata": {},
   "source": [
    "<h2 style='text-align:center'>Інші функції для словників</h2>"
   ]
  },
  {
   "cell_type": "markdown",
   "metadata": {},
   "source": [
    "list(dictionary) - створить список з ключів словника"
   ]
  },
  {
   "cell_type": "code",
   "execution_count": null,
   "metadata": {},
   "outputs": [
    {
     "name": "stdout",
     "output_type": "stream",
     "text": [
      "[1, 2, 3]\n"
     ]
    }
   ],
   "source": [
    "a_dict = {1: 2,\n",
    "          2: 3,\n",
    "          3: 4}\n",
    "print(list(a_dict))"
   ]
  },
  {
   "cell_type": "markdown",
   "metadata": {},
   "source": [
    "<h2 style='text-align:center'> Ітерування по словнику </h2>"
   ]
  },
  {
   "cell_type": "markdown",
   "metadata": {},
   "source": [
    "Ітерування по словнику за ключами"
   ]
  },
  {
   "cell_type": "code",
   "execution_count": null,
   "metadata": {},
   "outputs": [],
   "source": [
    "for key in a_dict:\n",
    "    print(a_dict[key])"
   ]
  },
  {
   "cell_type": "markdown",
   "metadata": {},
   "source": [
    "Ітерування по словнику за значеннями"
   ]
  },
  {
   "cell_type": "code",
   "execution_count": null,
   "metadata": {},
   "outputs": [],
   "source": [
    "for value in a_dict.values():\n",
    "    print(value)"
   ]
  },
  {
   "cell_type": "markdown",
   "metadata": {},
   "source": [
    "Ітерування по словнику за парами ключ-значення"
   ]
  },
  {
   "cell_type": "code",
   "execution_count": null,
   "metadata": {},
   "outputs": [
    {
     "name": "stdout",
     "output_type": "stream",
     "text": [
      "gallahad the pure\n",
      "robin the brave\n"
     ]
    }
   ],
   "source": [
    "knights = {'gallahad': 'the pure', 'robin': 'the brave'}\n",
    "for k, v in knights.items():\n",
    "    print(k, v)"
   ]
  }
 ],
 "metadata": {
  "kernelspec": {
   "display_name": "Python 3",
   "language": "python",
   "name": "python3"
  },
  "language_info": {
   "codemirror_mode": {
    "name": "ipython",
    "version": 3
   },
   "file_extension": ".py",
   "mimetype": "text/x-python",
   "name": "python",
   "nbconvert_exporter": "python",
   "pygments_lexer": "ipython3",
   "version": "3.13.3"
  }
 },
 "nbformat": 4,
 "nbformat_minor": 2
}
