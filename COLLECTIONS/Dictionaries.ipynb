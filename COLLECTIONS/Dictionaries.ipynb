{
 "cells": [
  {
   "cell_type": "markdown",
   "metadata": {},
   "source": [
    "# СЛОВНИКИ (DICTIONARIES)\n",
    "## Особливості словників\n",
    "* це невпорядковані колекції\n",
    "* змінювані (mutable) колекції\n",
    "* індексується за ключем\n",
    "* дані в словнику організовані по принципу ключ - значення\n",
    "* ключами можуть бути тільки незмінювані (immutable) значення (рядки, числові значення, кортежі, які не містять в собі інших змінюваних значень прямо чи опосередковано)\n",
    "* ключі мають бути унікальні значення, так само як і в множинах\n",
    "\n",
    "\n",
    "## Операції зі словниками\n",
    "* створення словника\n",
    "* отримання значення за ключем\n",
    "* входження значення в словник\n",
    "* додавання нового значення в словник\n",
    "* зміна існуючого значення в словнику\n",
    "* розширення словника за рахунок іншого\n",
    "* видалення значення зі словника\n",
    "\n",
    "## Методи словників\n",
    "* dict.update(some_dict)\n",
    "* dict.get(key)"
   ]
  },
  {
   "cell_type": "markdown",
   "metadata": {},
   "source": [
    "\n",
    "## Створення словника"
   ]
  },
  {
   "cell_type": "code",
   "execution_count": null,
   "metadata": {
    "ExecuteTime": {
     "end_time": "2025-06-10T23:24:05.596372Z",
     "start_time": "2025-06-10T23:24:05.592002Z"
    }
   },
   "outputs": [],
   "source": [
    "a_dict = {} # створення пустого словника, не множина\n",
    "print(a_dict)\n"
   ]
  },
  {
   "cell_type": "code",
   "execution_count": null,
   "metadata": {
    "ExecuteTime": {
     "end_time": "2025-06-10T23:24:05.651216Z",
     "start_time": "2025-06-10T23:24:05.646091Z"
    }
   },
   "outputs": [],
   "source": [
    "a_dict = dict() # створення пустого словника через вбудовану функцію\n",
    "print(a_dict)"
   ]
  },
  {
   "cell_type": "code",
   "execution_count": null,
   "metadata": {
    "ExecuteTime": {
     "end_time": "2025-06-10T23:24:05.682321Z",
     "start_time": "2025-06-10T23:24:05.677620Z"
    }
   },
   "outputs": [],
   "source": [
    "a_dict = {'hello': 'world', 'hello2': 'world'} # створення словника із початковими значеннями\n",
    "print(a_dict)"
   ]
  },
  {
   "cell_type": "code",
   "execution_count": null,
   "metadata": {
    "ExecuteTime": {
     "end_time": "2025-06-10T23:24:05.720003Z",
     "start_time": "2025-06-10T23:24:05.714023Z"
    }
   },
   "outputs": [],
   "source": [
    "a_dict = dict([('hello', 'world'),\n",
    "               ('hello2', 'world'),\n",
    "               ('hello3', 'world')]) # при створенні словника через функцію, аргументом передаєм список кортежів з ключами та значеннями відповідно\n",
    "print(a_dict)"
   ]
  },
  {
   "cell_type": "code",
   "execution_count": null,
   "metadata": {
    "ExecuteTime": {
     "end_time": "2025-06-10T23:24:05.769355Z",
     "start_time": "2025-06-10T23:24:05.764636Z"
    }
   },
   "outputs": [],
   "source": [
    "# створення через функцію через інший синтаксис\n",
    "a_dict = dict(\n",
    "    hello = 'world',\n",
    ")\n",
    "print(a_dict)"
   ]
  },
  {
   "cell_type": "markdown",
   "metadata": {},
   "source": [
    "### Отримання значення за ключем"
   ]
  },
  {
   "cell_type": "code",
   "execution_count": null,
   "metadata": {
    "ExecuteTime": {
     "end_time": "2025-06-10T23:24:05.800262Z",
     "start_time": "2025-06-10T23:24:05.794352Z"
    }
   },
   "outputs": [],
   "source": [
    "a_dict['hello']"
   ]
  },
  {
   "cell_type": "code",
   "execution_count": null,
   "metadata": {
    "ExecuteTime": {
     "end_time": "2025-06-10T23:24:05.839413Z",
     "start_time": "2025-06-10T23:24:05.819928Z"
    }
   },
   "outputs": [],
   "source": [
    "# спроба отримання значення за неісуючим ключем\n",
    "a_dict['hello1']"
   ]
  },
  {
   "cell_type": "code",
   "execution_count": null,
   "metadata": {},
   "outputs": [],
   "source": [
    "x = a_dict.get('hello1')\n",
    "print(x) # by default for not existing key method will return None"
   ]
  },
  {
   "cell_type": "code",
   "execution_count": null,
   "metadata": {},
   "outputs": [],
   "source": [
    "x = a_dict.get('hello1', 'Текст')  # якщо в метод передати параметр, то його буде виведено в разі неіснування ключа\n",
    "print(x)"
   ]
  },
  {
   "cell_type": "markdown",
   "metadata": {},
   "source": [
    "### Створення нового значення"
   ]
  },
  {
   "cell_type": "code",
   "execution_count": null,
   "metadata": {},
   "outputs": [],
   "source": [
    "print(a_dict)\n",
    "a_dict['hello1'] = 'world1'\n",
    "print(a_dict)"
   ]
  },
  {
   "cell_type": "markdown",
   "metadata": {},
   "source": [
    "### Зміна існуючого значення"
   ]
  },
  {
   "cell_type": "code",
   "execution_count": null,
   "metadata": {},
   "outputs": [],
   "source": [
    "a_dict['hello'] = 'WORLD'\n",
    "print(a_dict)"
   ]
  },
  {
   "cell_type": "markdown",
   "metadata": {},
   "source": [
    "### Розширення словника"
   ]
  },
  {
   "cell_type": "code",
   "execution_count": null,
   "metadata": {},
   "outputs": [],
   "source": [
    "a_dict.update({1: 2})\n",
    "print(a_dict)"
   ]
  },
  {
   "cell_type": "markdown",
   "metadata": {},
   "source": [
    "### Видалення значення зі словника"
   ]
  },
  {
   "cell_type": "markdown",
   "metadata": {},
   "source": [
    "метод .pop()\n",
    "* аргументом в даному випадку є назва ключа\n",
    "* метод повертає видалений елемент\n",
    "* якщо ключа в словника не існує, вибиває помилку"
   ]
  },
  {
   "cell_type": "code",
   "execution_count": null,
   "metadata": {},
   "outputs": [],
   "source": [
    "a_dict.pop(1)"
   ]
  },
  {
   "cell_type": "code",
   "execution_count": null,
   "metadata": {},
   "outputs": [],
   "source": [
    "a_dict.pop(1)"
   ]
  },
  {
   "cell_type": "markdown",
   "metadata": {},
   "source": [
    "За допомогою del"
   ]
  },
  {
   "cell_type": "code",
   "execution_count": null,
   "metadata": {},
   "outputs": [],
   "source": [
    "del a_dict['hello1']\n",
    "print(a_dict)"
   ]
  },
  {
   "cell_type": "markdown",
   "metadata": {},
   "source": [
    "### Перевірка входження\n",
    "\n",
    "* перевіряється за ключем, а не за значенням\n",
    "* при спробі перевірки за значенням - повертає False"
   ]
  },
  {
   "cell_type": "code",
   "execution_count": null,
   "metadata": {},
   "outputs": [],
   "source": [
    "'hello' in a_dict # check by key"
   ]
  },
  {
   "cell_type": "code",
   "execution_count": null,
   "metadata": {},
   "outputs": [],
   "source": [
    "'WORLD' in a_dict # check by value"
   ]
  },
  {
   "cell_type": "markdown",
   "metadata": {},
   "source": [
    "### Довжина словника"
   ]
  },
  {
   "cell_type": "code",
   "execution_count": null,
   "metadata": {},
   "outputs": [],
   "source": [
    "len(a_dict)"
   ]
  },
  {
   "cell_type": "markdown",
   "metadata": {},
   "source": [
    "### Ітерування по словнику"
   ]
  },
  {
   "cell_type": "markdown",
   "metadata": {},
   "source": [
    "Ітерування по словнику за ключами"
   ]
  },
  {
   "cell_type": "code",
   "execution_count": null,
   "metadata": {},
   "outputs": [],
   "source": [
    "for key in a_dict:\n",
    "    print(a_dict[key])"
   ]
  },
  {
   "cell_type": "markdown",
   "metadata": {},
   "source": [
    "Ітерування по словнику за значеннями"
   ]
  },
  {
   "cell_type": "code",
   "execution_count": null,
   "metadata": {},
   "outputs": [],
   "source": [
    "for value in a_dict.values():\n",
    "    print(value)"
   ]
  },
  {
   "cell_type": "markdown",
   "metadata": {},
   "source": [
    "Ітерування по словнику за парами ключ-значення"
   ]
  },
  {
   "cell_type": "code",
   "execution_count": null,
   "metadata": {},
   "outputs": [],
   "source": [
    "for key, value in a_dict.items():\n",
    "    print(key, value)"
   ]
  },
  {
   "cell_type": "code",
   "execution_count": null,
   "metadata": {},
   "outputs": [],
   "source": []
  }
 ],
 "metadata": {
  "kernelspec": {
   "display_name": "Python 3",
   "language": "python",
   "name": "python3"
  },
  "language_info": {
   "codemirror_mode": {
    "name": "ipython",
    "version": 3
   },
   "file_extension": ".py",
   "mimetype": "text/x-python",
   "name": "python",
   "nbconvert_exporter": "python",
   "pygments_lexer": "ipython3",
   "version": "3.13.3"
  }
 },
 "nbformat": 4,
 "nbformat_minor": 2
}
