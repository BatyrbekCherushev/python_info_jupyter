{
 "cells": [
  {
   "metadata": {},
   "cell_type": "markdown",
   "source": [
    "# Функція id()\n",
    "\n",
    "повертає унікальне ціле число (ідентифікатор присвоєної адреси в пам'яті) переданого об’єкта аргументу\n",
    "\n",
    "аргумент може бути класом, змінною, списком, кортежем, множиною тощо\n",
    "\n",
    "Оскільки ідентифікатор — це присвоєна адреса в пам’яті, в різних системах вона може бути різною. Тому результат у вашій системі може відрізнятися"
   ],
   "id": "64ad89ebfd4bcae1"
  },
  {
   "cell_type": "code",
   "id": "initial_id",
   "metadata": {
    "collapsed": true,
    "ExecuteTime": {
     "end_time": "2025-06-07T00:42:09.191317Z",
     "start_time": "2025-06-07T00:42:09.189509Z"
    }
   },
   "source": "",
   "outputs": [],
   "execution_count": null
  }
 ],
 "metadata": {
  "kernelspec": {
   "display_name": "Python 3",
   "language": "python",
   "name": "python3"
  },
  "language_info": {
   "codemirror_mode": {
    "name": "ipython",
    "version": 2
   },
   "file_extension": ".py",
   "mimetype": "text/x-python",
   "name": "python",
   "nbconvert_exporter": "python",
   "pygments_lexer": "ipython2",
   "version": "2.7.6"
  }
 },
 "nbformat": 4,
 "nbformat_minor": 5
}
