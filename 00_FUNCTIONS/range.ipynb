{
 "cells": [
  {
   "metadata": {},
   "cell_type": "markdown",
   "source": [
    "<h1>Функція range()</h1>\n",
    "\n",
    "Функція range() повертає послідовність чисел, яка починається з 0 (за замовчуванням), збільшується на 1 (за замовчуванням) та зупиняється перед вказаним числом."
   ],
   "id": "70ee76af6104c1d1"
  },
  {
   "cell_type": "code",
   "id": "initial_id",
   "metadata": {
    "collapsed": true,
    "ExecuteTime": {
     "end_time": "2025-06-06T23:02:42.606772Z",
     "start_time": "2025-06-06T23:02:42.601282Z"
    }
   },
   "source": [
    "print(range(10))\n",
    "print(list(range(10)))"
   ],
   "outputs": [
    {
     "name": "stdout",
     "output_type": "stream",
     "text": [
      "range(0, 10)\n",
      "[0, 1, 2, 3, 4, 5, 6, 7, 8, 9]\n"
     ]
    }
   ],
   "execution_count": 5
  },
  {
   "metadata": {},
   "cell_type": "markdown",
   "source": [
    "Функція range() може приймати максимум три параметри:\n",
    "\n",
    "   **start** (не обов’язково) — ціле число, яке вказує, із якої позиції починати. За замовчуванням використовується 0;\n",
    "\n",
    "   **stop** — ціле число, яке вказує, на якій позиції зупинитись (не включно);\n",
    "\n",
    "   **step** (не обов’язково) — ціле число, яке задає крок. За замовчуванням використовується 1"
   ],
   "id": "45ab12e50efb7e6d"
  },
  {
   "metadata": {
    "ExecuteTime": {
     "end_time": "2025-06-06T23:01:44.793913Z",
     "start_time": "2025-06-06T23:01:44.787204Z"
    }
   },
   "cell_type": "code",
   "source": [
    "# Числа від 2 до 10 з кроком 3 між числами\n",
    "numbers = range(2, 10, 3)\n",
    "print(list(numbers))\n",
    "\n",
    "# Числа від 4 до -1 з кроком -1\n",
    "numbers = range(4, -1, -1)\n",
    "print(list(numbers))\n",
    "\n",
    "# Числа від 0 до 5 з кроком 1\n",
    "# range(0, 5, 1) еквівалентно range(5)\n",
    "numbers = range(0, 5, 1)\n",
    "print(list(numbers))"
   ],
   "id": "23540f4fc99b96ee",
   "outputs": [
    {
     "name": "stdout",
     "output_type": "stream",
     "text": [
      "[2, 5, 8]\n",
      "[4, 3, 2, 1, 0]\n",
      "[0, 1, 2, 3, 4]\n"
     ]
    }
   ],
   "execution_count": 4
  }
 ],
 "metadata": {
  "kernelspec": {
   "display_name": "Python 3",
   "language": "python",
   "name": "python3"
  },
  "language_info": {
   "codemirror_mode": {
    "name": "ipython",
    "version": 2
   },
   "file_extension": ".py",
   "mimetype": "text/x-python",
   "name": "python",
   "nbconvert_exporter": "python",
   "pygments_lexer": "ipython2",
   "version": "2.7.6"
  }
 },
 "nbformat": 4,
 "nbformat_minor": 5
}
