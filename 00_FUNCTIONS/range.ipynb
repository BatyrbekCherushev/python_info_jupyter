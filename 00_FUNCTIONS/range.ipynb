{
 "cells": [
  {
   "cell_type": "markdown",
   "id": "70ee76af6104c1d1",
   "metadata": {},
   "source": [
    "<h1>Функція range()</h1>\n",
    "\n",
    "Функція range() повертає послідовність чисел, яка починається з 0 (за замовчуванням), збільшується на 1 (за замовчуванням) та зупиняється перед вказаним числом."
   ]
  },
  {
   "cell_type": "code",
   "execution_count": null,
   "id": "initial_id",
   "metadata": {
    "ExecuteTime": {
     "end_time": "2025-06-06T23:02:42.606772Z",
     "start_time": "2025-06-06T23:02:42.601282Z"
    },
    "collapsed": true
   },
   "outputs": [],
   "source": [
    "print(range(10))\n",
    "print(list(range(10)))"
   ]
  },
  {
   "cell_type": "markdown",
   "id": "45ab12e50efb7e6d",
   "metadata": {},
   "source": [
    "Функція range() може приймати максимум три параметри:\n",
    "\n",
    "   **start** (не обов’язково) — ціле число, яке вказує, із якої позиції починати. За замовчуванням використовується 0;\n",
    "\n",
    "   **stop** — ціле число, яке вказує, на якій позиції зупинитись (не включно);\n",
    "\n",
    "   **step** (не обов’язково) — ціле число, яке задає крок. За замовчуванням використовується 1"
   ]
  },
  {
   "cell_type": "code",
   "execution_count": null,
   "id": "23540f4fc99b96ee",
   "metadata": {
    "ExecuteTime": {
     "end_time": "2025-06-06T23:01:44.793913Z",
     "start_time": "2025-06-06T23:01:44.787204Z"
    }
   },
   "outputs": [],
   "source": [
    "# Числа від 2 до 10 з кроком 3 між числами\n",
    "numbers = range(2, 10, 3)\n",
    "print(list(numbers))\n",
    "\n",
    "# Числа від 4 до -1 з кроком -1\n",
    "numbers = range(4, -1, -1)\n",
    "print(list(numbers))\n",
    "\n",
    "# Числа від 0 до 5 з кроком 1\n",
    "# range(0, 5, 1) еквівалентно range(5)\n",
    "numbers = range(0, 5, 1)\n",
    "print(list(numbers))"
   ]
  }
 ],
 "metadata": {
  "kernelspec": {
   "display_name": "Python 3",
   "language": "python",
   "name": "python3"
  },
  "language_info": {
   "codemirror_mode": {
    "name": "ipython",
    "version": 2
   },
   "file_extension": ".py",
   "mimetype": "text/x-python",
   "name": "python",
   "nbconvert_exporter": "python",
   "pygments_lexer": "ipython2",
   "version": "2.7.6"
  }
 },
 "nbformat": 4,
 "nbformat_minor": 5
}
